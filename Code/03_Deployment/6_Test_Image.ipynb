{
 "cells": [
  {
   "cell_type": "markdown",
   "metadata": {
    "collapsed": true
   },
   "source": [
    "## Test web application locally\n",
    "This notebook uses some text and tests them against the web app we made previously. <br> This notebook contains 2 sections\n",
    "<ul>\n",
    "<li> The first section shows how to test the web service locally using some sample data </li>\n",
    "<li> The second section shows how to test the web service deployed on Azure Container Service </li>\n",
    "</ul>"
   ]
  },
  {
   "cell_type": "markdown",
   "metadata": {},
   "source": [
    "### Section 1: Test the web service locally"
   ]
  },
  {
   "cell_type": "code",
   "execution_count": 39,
   "metadata": {
    "collapsed": true
   },
   "outputs": [],
   "source": [
    "import numpy as np"
   ]
  },
  {
   "cell_type": "code",
   "execution_count": 40,
   "metadata": {
    "collapsed": true
   },
   "outputs": [],
   "source": [
    "#specify image name here\n",
    "image_name='akshaymehra/bidirectional_lstm_ner_ddc'"
   ]
  },
  {
   "cell_type": "code",
   "execution_count": 41,
   "metadata": {},
   "outputs": [
    {
     "name": "stdout",
     "output_type": "stream",
     "text": [
      "Login Succeeded\r\n"
     ]
    }
   ],
   "source": [
    "!sudo docker login -u akshaymehra -p Akshay2404"
   ]
  },
  {
   "cell_type": "markdown",
   "metadata": {},
   "source": [
    "Run the Docker container in the background and open port 88"
   ]
  },
  {
   "cell_type": "markdown",
   "metadata": {},
   "source": [
    "Check the status of the service by running the below cell through the command line"
   ]
  },
  {
   "cell_type": "code",
   "execution_count": null,
   "metadata": {
    "collapsed": true
   },
   "outputs": [],
   "source": [
    "#run it from the command line\n",
    "#!sudo docker run -it -p 5000:88 akshaymehra/bidirectional_lstm_ner_ddc"
   ]
  },
  {
   "cell_type": "code",
   "execution_count": 2,
   "metadata": {},
   "outputs": [
    {
     "name": "stdout",
     "output_type": "stream",
     "text": [
      "2.0.6"
     ]
    }
   ],
   "source": [
    "!curl 'http://127.0.0.1:5000/version'"
   ]
  },
  {
   "cell_type": "code",
   "execution_count": 3,
   "metadata": {
    "collapsed": true
   },
   "outputs": [],
   "source": [
    "content = 'Insulin cures diabetes. Colon Cancer, Breast Cancer, Skin Cancer are types of Cancers'"
   ]
  },
  {
   "cell_type": "code",
   "execution_count": 4,
   "metadata": {},
   "outputs": [
    {
     "name": "stdout",
     "output_type": "stream",
     "text": [
      "{\"input\": \"Insulin cures diabetes. Colon Cancer, Breast Cancer, Skin Cancer are types of Cancers\"}\n"
     ]
    }
   ],
   "source": [
    "import json\n",
    "import urllib.request\n",
    "import requests\n",
    "headers = {'content-type': 'application/json'}\n",
    "json_content = json.dumps({'input':'{0}'.format(content)})\n",
    "print(json_content)"
   ]
  },
  {
   "cell_type": "code",
   "execution_count": 6,
   "metadata": {},
   "outputs": [
    {
     "name": "stdout",
     "output_type": "stream",
     "text": [
      "200\n"
     ]
    }
   ],
   "source": [
    "input = content\n",
    "r = requests.get('http://127.0.0.1:5000/score?input=' + content)\n",
    "print(r.status_code)"
   ]
  },
  {
   "cell_type": "code",
   "execution_count": 7,
   "metadata": {},
   "outputs": [
    {
     "name": "stdout",
     "output_type": "stream",
     "text": [
      "<b><font size = '2' color = 'lime'>Insulin</font></b> <font size = '2' color = 'black'>cures</font> <b><font size = '2' color = 'blue'>diabetes</font></b> <font size = '2' color = 'black'>.</font> <br><b><font size = '2' color = 'blue'>Colon</font></b> <b><font size = '2' color = 'blue'>Cancer</font></b> <font size = '2' color = 'black'>,</font> <b><font size = '2' color = 'blue'>Breast</font></b> <b><font size = '2' color = 'blue'>Cancer</font></b> <font size = '2' color = 'black'>,</font> <b><font size = '2' color = 'blue'>Skin</font></b> <b><font size = '2' color = 'blue'>Cancer</font></b> <font size = '2' color = 'black'>are</font> <font size = '2' color = 'black'>types</font> <font size = '2' color = 'black'>of</font> <font size = '2' color = 'black'>Cancers</font> <br>\n"
     ]
    }
   ],
   "source": [
    "string = r.content.decode('utf-8')\n",
    "json_obj = json.loads(string)\n",
    "val = json_obj['result'][0]\n",
    "print(val)"
   ]
  },
  {
   "cell_type": "markdown",
   "metadata": {},
   "source": [
    "### Section 2 : Test After Deployment on ACS"
   ]
  },
  {
   "cell_type": "code",
   "execution_count": 8,
   "metadata": {
    "collapsed": true
   },
   "outputs": [],
   "source": [
    "#Specify the app URL of your ACS cluster\n",
    "app_url = 'acsnameagents.southcentralus.cloudapp.azure.com'\n",
    "app_id = '/bidirectionallstmnerddc'"
   ]
  },
  {
   "cell_type": "code",
   "execution_count": 9,
   "metadata": {
    "collapsed": true
   },
   "outputs": [],
   "source": [
    "scoring_url = 'http://{}/score'.format(app_url)\n",
    "version_url = 'http://{}/version'.format(app_url)"
   ]
  },
  {
   "cell_type": "code",
   "execution_count": 10,
   "metadata": {},
   "outputs": [
    {
     "name": "stdout",
     "output_type": "stream",
     "text": [
      "2.0.6"
     ]
    }
   ],
   "source": [
    "!curl $version_url # Reports the Keras Version"
   ]
  },
  {
   "cell_type": "code",
   "execution_count": 11,
   "metadata": {},
   "outputs": [
    {
     "name": "stdout",
     "output_type": "stream",
     "text": [
      "200\n"
     ]
    }
   ],
   "source": [
    "content = 'Insulin cures diabetes. Colon Cancer, Breast Cancer, Skin Cancer are types of Cancers'\n",
    "input = content\n",
    "r = requests.get(scoring_url + '?input=' + content)\n",
    "print(r.status_code)"
   ]
  },
  {
   "cell_type": "code",
   "execution_count": 12,
   "metadata": {
    "collapsed": true
   },
   "outputs": [],
   "source": [
    "string = r.content.decode('utf-8')\n",
    "json_obj = json.loads(string)\n",
    "val = json_obj['result'][0]"
   ]
  },
  {
   "cell_type": "code",
   "execution_count": 13,
   "metadata": {},
   "outputs": [
    {
     "name": "stdout",
     "output_type": "stream",
     "text": [
      "<b><font size = '2' color = 'lime'>Insulin</font></b> <font size = '2' color = 'black'>cures</font> <b><font size = '2' color = 'blue'>diabetes</font></b> <font size = '2' color = 'black'>.</font> <br><b><font size = '2' color = 'blue'>Colon</font></b> <b><font size = '2' color = 'blue'>Cancer</font></b> <font size = '2' color = 'black'>,</font> <b><font size = '2' color = 'blue'>Breast</font></b> <b><font size = '2' color = 'blue'>Cancer</font></b> <font size = '2' color = 'black'>,</font> <b><font size = '2' color = 'blue'>Skin</font></b> <b><font size = '2' color = 'blue'>Cancer</font></b> <font size = '2' color = 'black'>are</font> <font size = '2' color = 'black'>types</font> <font size = '2' color = 'black'>of</font> <font size = '2' color = 'black'>Cancers</font> <br>\n"
     ]
    }
   ],
   "source": [
    "print(val)"
   ]
  }
 ],
 "metadata": {
  "kernelspec": {
   "display_name": "Python [default]",
   "language": "python",
   "name": "python2"
  },
  "language_info": {
   "codemirror_mode": {
    "name": "ipython",
    "version": 2
   },
   "file_extension": ".py",
   "mimetype": "text/x-python",
   "name": "python",
   "nbconvert_exporter": "python",
   "pygments_lexer": "ipython2",
   "version": "2.7.13"
  }
 },
 "nbformat": 4,
 "nbformat_minor": 2
}
