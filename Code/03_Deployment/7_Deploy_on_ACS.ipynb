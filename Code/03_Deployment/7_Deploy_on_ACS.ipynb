{
 "cells": [
  {
   "cell_type": "markdown",
   "metadata": {},
   "source": [
    "<h1>Deploy Web App on Azure Container Services (ACS)</h1>\n",
    "<br>This Notebook walks you through on how to deploy the Docker Image of the Flask web app created in earlier on the ACS\n",
    "<ul>\n",
    "<li>We show how create Azure Container Service through code and deploy our Docker image on it.</li>\n",
    "<li>We also show how to rip apart the ACS </li>\n",
    "</ul>"
   ]
  },
  {
   "cell_type": "markdown",
   "metadata": {},
   "source": [
    "### Step 1: Setup\n",
    "Below are the various name definitions for the resources needed to setup ACS as well as the name of the Docker image we will be using."
   ]
  },
  {
   "cell_type": "code",
   "execution_count": 141,
   "metadata": {
    "collapsed": true
   },
   "outputs": [],
   "source": [
    "# modify these\n",
    "# Avoid any special characters (like _, - etc.) in resource_group and ACS name\n",
    "resource_group = \"ACSResourceGroup\" \n",
    "acs_name = \"ACSName\"\n",
    "location = \"South Central US\"\n",
    "\n",
    "image_name = 'akshaymehra/bidirectional_lstm_ner_ddc' \n",
    "\n",
    "# If you have multiple subscriptions select \n",
    "# the subscription you want to use here\n",
    "selected_subscription = \"'Azure Subscription'\" "
   ]
  },
  {
   "cell_type": "markdown",
   "metadata": {},
   "source": [
    "#### Azure account login\n",
    "The command below will initiate a login to your Azure account. It will pop up with an url to go to where you will enter a one off code and log into your Azure account using your browser.<br>\n",
    "In order to install Azure CLI for Ubuntu see <a href=\"https://docs.microsoft.com/en-us/cli/azure/install-azure-cli#apt-get-for-debianubuntu\"> this </a>"
   ]
  },
  {
   "cell_type": "code",
   "execution_count": null,
   "metadata": {
    "collapsed": true
   },
   "outputs": [],
   "source": [
    "!az login -o table"
   ]
  },
  {
   "cell_type": "code",
   "execution_count": 142,
   "metadata": {
    "collapsed": true
   },
   "outputs": [],
   "source": [
    "!az account set --subscription $selected_subscription"
   ]
  },
  {
   "cell_type": "code",
   "execution_count": null,
   "metadata": {
    "collapsed": true
   },
   "outputs": [],
   "source": [
    "!az account show"
   ]
  },
  {
   "cell_type": "markdown",
   "metadata": {},
   "source": [
    "### Step 2: Create resources and dependencies"
   ]
  },
  {
   "cell_type": "markdown",
   "metadata": {},
   "source": [
    "#### Create resource group\n",
    "Azure encourages the use of groups to organise all the Azure components you deploy. That way it is easier to find them but also we can deleted a number of resources simply by deleting the group."
   ]
  },
  {
   "cell_type": "code",
   "execution_count": null,
   "metadata": {
    "collapsed": true
   },
   "outputs": [],
   "source": [
    "!az group create --name $resource_group --location '$location'"
   ]
  },
  {
   "cell_type": "markdown",
   "metadata": {},
   "source": [
    "#### Create ssh\n",
    "Create ssh key if one not present. This is needed for the tunnel we will be creating to the head node in order to interact with Marathon."
   ]
  },
  {
   "cell_type": "code",
   "execution_count": 145,
   "metadata": {
    "collapsed": true
   },
   "outputs": [],
   "source": [
    "import os\n",
    "if not os.path.exists('{}/.ssh/id_rsa'.format(os.environ['HOME'])):\n",
    "    !ssh-keygen -t rsa -b 2048 -N \"\" -f ~/.ssh/id_rsa"
   ]
  },
  {
   "cell_type": "markdown",
   "metadata": {},
   "source": [
    "### Step 3: Deploy ACS\n",
    "We are going to deploy a small pool of 2 Standard D2 VMs. Each VM has 2 cores and 7 GB of RAM. This is the default choice when setting up an ACS cluster. "
   ]
  },
  {
   "cell_type": "markdown",
   "metadata": {},
   "source": [
    "This step whould take roughly between 7-10 mins to execute. You can see the resources being created under the specified resource group \n",
    "in the <a href = \"portal.azure.com\">Azure Portal</a>"
   ]
  },
  {
   "cell_type": "code",
   "execution_count": 146,
   "metadata": {
    "collapsed": true
   },
   "outputs": [],
   "source": [
    "json_data=!az acs create --name $acs_name --resource-group $resource_group --admin-username mat --dns-prefix $acs_name --agent-count 2"
   ]
  },
  {
   "cell_type": "code",
   "execution_count": 147,
   "metadata": {
    "collapsed": true
   },
   "outputs": [],
   "source": [
    "json_dict = json.loads(''.join(json_data))"
   ]
  },
  {
   "cell_type": "code",
   "execution_count": null,
   "metadata": {
    "collapsed": true
   },
   "outputs": [],
   "source": [
    "if json_dict['properties']['provisioningState'] == 'Succeeded':\n",
    "    print('Succensfully provisioned ACS {}'.format(acs_name))\n",
    "    _,ssh_addr,_,_,ssh_port, = json_dict['properties']['outputs']['sshMaster0']['value'].split()"
   ]
  },
  {
   "cell_type": "code",
   "execution_count": null,
   "metadata": {
    "collapsed": true
   },
   "outputs": [],
   "source": [
    "!az acs list --resource-group $resource_group --output table"
   ]
  },
  {
   "cell_type": "code",
   "execution_count": null,
   "metadata": {
    "collapsed": true
   },
   "outputs": [],
   "source": [
    "!az acs show --name $acs_name --resource-group $resource_group"
   ]
  },
  {
   "cell_type": "markdown",
   "metadata": {},
   "source": [
    "#### Create SSH tunnel\n",
    "Create ssh tunnel from dsvm to ACS cluster management"
   ]
  },
  {
   "cell_type": "code",
   "execution_count": 151,
   "metadata": {},
   "outputs": [
    {
     "name": "stdout",
     "output_type": "stream",
     "text": [
      "Starting job # 7 in a separate thread.\n"
     ]
    }
   ],
   "source": [
    "%%bash --bg -s $ssh_port $ssh_addr\n",
    "ssh -o StrictHostKeyChecking=no -fNL 1212:localhost:80 -p $1 $2"
   ]
  },
  {
   "cell_type": "markdown",
   "metadata": {},
   "source": [
    "#### Marathon deployment\n",
    "Below we create a JSON schema of our application which we will then pass to marathon. Using this schema Marathon will spin up our application in ACS."
   ]
  },
  {
   "cell_type": "code",
   "execution_count": 152,
   "metadata": {
    "collapsed": true
   },
   "outputs": [],
   "source": [
    "application_id = \"/bidirectionallstmnerddc\""
   ]
  },
  {
   "cell_type": "code",
   "execution_count": 153,
   "metadata": {
    "collapsed": true
   },
   "outputs": [],
   "source": [
    "app_template = {\n",
    "  \"id\": application_id,\n",
    "  \"cmd\": None,\n",
    "  \"cpus\": 1,\n",
    "  \"mem\": 1024,\n",
    "  \"disk\": 100,\n",
    "  \"instances\": 1,\n",
    "  \"acceptedResourceRoles\": [\n",
    "    \"slave_public\"\n",
    "  ],\n",
    "  \"container\": {\n",
    "    \"type\": \"DOCKER\",\n",
    "    \"volumes\": [],\n",
    "    \"docker\": {\n",
    "      \"image\": image_name,\n",
    "      \"network\": \"BRIDGE\",\n",
    "      \"portMappings\": [\n",
    "        {\n",
    "          \"containerPort\": 88,\n",
    "          \"hostPort\": 80,\n",
    "          \"protocol\": \"tcp\",\n",
    "          \"name\": \"80\",\n",
    "          \"labels\": {}\n",
    "        }\n",
    "      ],\n",
    "      \"privileged\": False,\n",
    "      \"parameters\": [],\n",
    "      \"forcePullImage\": True\n",
    "    }\n",
    "  },\n",
    "  \"healthChecks\": [\n",
    "    {\n",
    "      \"path\": \"/\",\n",
    "      \"protocol\": \"HTTP\",\n",
    "      \"portIndex\": 0,\n",
    "      \"gracePeriodSeconds\": 300,\n",
    "      \"intervalSeconds\": 60,\n",
    "      \"timeoutSeconds\": 20,\n",
    "      \"maxConsecutiveFailures\": 3\n",
    "    }\n",
    "  ]\n",
    "}"
   ]
  },
  {
   "cell_type": "code",
   "execution_count": 154,
   "metadata": {
    "collapsed": true
   },
   "outputs": [],
   "source": [
    "def write_json_to_file(json_dict, filename):\n",
    "    with open(filename, 'w') as outfile:\n",
    "        json.dump(json_dict, outfile)"
   ]
  },
  {
   "cell_type": "code",
   "execution_count": 155,
   "metadata": {
    "collapsed": true
   },
   "outputs": [],
   "source": [
    "write_json_to_file(app_template, 'marathon.json')"
   ]
  },
  {
   "cell_type": "code",
   "execution_count": 156,
   "metadata": {},
   "outputs": [
    {
     "name": "stdout",
     "output_type": "stream",
     "text": [
      "{\"id\":\"/bidirectionallstmnerddc\",\"cmd\":null,\"args\":null,\"user\":null,\"env\":{},\"instances\":1,\"cpus\":1,\"mem\":1024,\"disk\":100,\"gpus\":0,\"executor\":\"\",\"constraints\":[],\"uris\":[],\"fetch\":[],\"storeUrls\":[],\"backoffSeconds\":1,\"backoffFactor\":1.15,\"maxLaunchDelaySeconds\":3600,\"container\":{\"type\":\"DOCKER\",\"volumes\":[],\"docker\":{\"image\":\"akshaymehra/bidirectional_lstm_ner_ddc\",\"network\":\"BRIDGE\",\"portMappings\":[{\"containerPort\":88,\"hostPort\":80,\"servicePort\":0,\"protocol\":\"tcp\",\"name\":\"80\",\"labels\":{}}],\"privileged\":false,\"parameters\":[],\"forcePullImage\":true}},\"healthChecks\":[{\"gracePeriodSeconds\":300,\"intervalSeconds\":60,\"timeoutSeconds\":20,\"maxConsecutiveFailures\":3,\"portIndex\":0,\"path\":\"/\",\"protocol\":\"HTTP\",\"ignoreHttp1xx\":false}],\"readinessChecks\":[],\"dependencies\":[],\"upgradeStrategy\":{\"minimumHealthCapacity\":1,\"maximumOverCapacity\":1},\"labels\":{},\"ipAddress\":null,\"version\":\"2017-07-17T04:16:23.859Z\",\"residency\":null,\"secrets\":{},\"taskKillGracePeriodSeconds\":null,\"unreachableStrategy\":{\"inactiveAfterSeconds\":300,\"expungeAfterSeconds\":600},\"killSelection\":\"YOUNGEST_FIRST\",\"acceptedResourceRoles\":[\"slave_public\"],\"ports\":[0],\"portDefinitions\":[{\"port\":0,\"protocol\":\"tcp\",\"name\":\"default\",\"labels\":{}}],\"requirePorts\":false,\"tasksStaged\":0,\"tasksRunning\":0,\"tasksHealthy\":0,\"tasksUnhealthy\":0,\"deployments\":[{\"id\":\"97c59850-5494-47dc-abdb-a00ee6a58514\"}],\"tasks\":[]}"
     ]
    }
   ],
   "source": [
    "!curl -X POST http://localhost:1212/marathon/v2/apps -d @marathon.json -H \"Content-type: application/json\""
   ]
  },
  {
   "cell_type": "code",
   "execution_count": 157,
   "metadata": {},
   "outputs": [
    {
     "name": "stdout",
     "output_type": "stream",
     "text": [
      "Preparing Web app\n",
      "Preparing Web app\n",
      "Preparing Web app\n",
      "Preparing Web app\n",
      "Preparing Web app\n",
      "Preparing Web app\n",
      "Preparing Web app\n",
      "Web app ready\n"
     ]
    }
   ],
   "source": [
    "from time import sleep\n",
    "for i in range(20):\n",
    "    json_data = !curl http://localhost:1212/marathon/v2/apps\n",
    "    if json.loads(json_data[-1])['apps'][0]['tasksRunning']==1:\n",
    "        print('Web app ready')\n",
    "        break\n",
    "    else:\n",
    "        print('Preparing Web app')\n",
    "    sleep(10)\n",
    "else:\n",
    "    print('Timeout! Something went wrong!')"
   ]
  },
  {
   "cell_type": "code",
   "execution_count": 158,
   "metadata": {
    "collapsed": true
   },
   "outputs": [],
   "source": [
    "app_url = json_dict['properties']['outputs']['agentFQDN']['value']"
   ]
  },
  {
   "cell_type": "code",
   "execution_count": null,
   "metadata": {
    "collapsed": true
   },
   "outputs": [],
   "source": [
    "print('Application URL: {}'.format(app_url))\n",
    "print('Application ID: {}'.format(application_id))"
   ]
  },
  {
   "cell_type": "markdown",
   "metadata": {},
   "source": [
    "### Appendix: Tear it all down \n",
    "Once you are done with your ACS you can use the following two commands to destroy it all."
   ]
  },
  {
   "cell_type": "code",
   "execution_count": 105,
   "metadata": {},
   "outputs": [
    {
     "name": "stdout",
     "output_type": "stream",
     "text": [
      "\u001b[K / Finished .."
     ]
    }
   ],
   "source": [
    "!az acs delete --resource-group $resource_group --name $acs_name"
   ]
  },
  {
   "cell_type": "code",
   "execution_count": 106,
   "metadata": {},
   "outputs": [
    {
     "name": "stdout",
     "output_type": "stream",
     "text": [
      "\u001b[K \\ Finished .."
     ]
    }
   ],
   "source": [
    "!az group delete --name $resource_group -y"
   ]
  }
 ],
 "metadata": {
  "kernelspec": {
   "display_name": "Python [default]",
   "language": "python",
   "name": "python2"
  },
  "language_info": {
   "codemirror_mode": {
    "name": "ipython",
    "version": 2
   },
   "file_extension": ".py",
   "mimetype": "text/x-python",
   "name": "python",
   "nbconvert_exporter": "python",
   "pygments_lexer": "ipython2",
   "version": "2.7.13"
  }
 },
 "nbformat": 4,
 "nbformat_minor": 2
}
