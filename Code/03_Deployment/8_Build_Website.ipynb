{
 "cells": [
  {
   "cell_type": "markdown",
   "metadata": {},
   "source": [
    "### Create a Website to consume the Web Service created and deployed on ACS"
   ]
  },
  {
   "cell_type": "markdown",
   "metadata": {},
   "source": [
    "This Notebook provides the details of how to develop a Web App to test the Web Service hosted on ACS as created in the previous Notebook. \n",
    "<ul>\n",
    "<li>First, create a Flask Web App that can call the ACS web service</li>\n",
    "<li>Next, create a Docker Container of the Web App</li>\n",
    "<li>Finally, deploy the Image using Web App for Linux in Azure <a href = \"https://docs.microsoft.com/en-us/azure/app-service-web/app-service-linux-using-custom-docker-image\">Tutorial for deploying the docker Image using Webapp for Linux on Azure</a></li>\n",
    "<ul>\n"
   ]
  },
  {
   "cell_type": "code",
   "execution_count": 22,
   "metadata": {
    "collapsed": true
   },
   "outputs": [],
   "source": [
    "import os\n",
    "from os import path\n",
    "import json"
   ]
  },
  {
   "cell_type": "code",
   "execution_count": 80,
   "metadata": {},
   "outputs": [
    {
     "name": "stdout",
     "output_type": "stream",
     "text": [
      "mkdir: cannot create directory ‘nerdetection_ddc’: File exists\n",
      "app.py\tdockerfile  requirements.txt  static  templates\n"
     ]
    }
   ],
   "source": [
    "!mkdir nerdetection_ddc\n",
    "!ls nerdetection_ddc"
   ]
  },
  {
   "cell_type": "markdown",
   "metadata": {},
   "source": [
    "#### Step 1: Create Files that will be used to render the UI"
   ]
  },
  {
   "cell_type": "code",
   "execution_count": null,
   "metadata": {
    "collapsed": true
   },
   "outputs": [],
   "source": [
    "%%writefile nerdetection_ddc/static/style.css\n",
    "body {\n",
    "    padding-top: 5px;\n",
    "    padding-bottom: 5px;\n",
    "}\n",
    "\n",
    "/* Set padding to keep content from hitting the edges */\n",
    ".body-content {\n",
    "    padding-left: 5px;\n",
    "    padding-right: 5px;\n",
    "}\n",
    "\n",
    "/* Set width on the form input elements since they are 100% wide by default */\n",
    "input,\n",
    "select,\n",
    "textarea {\n",
    "    max-width: 1000px;\n",
    "}\n",
    "\n",
    "/* styles for validation helpers */\n",
    ".field-validation-error {\n",
    "    color: #b94a48;\n",
    "}\n",
    "\n",
    ".field-validation-valid {\n",
    "    display: none;\n",
    "}\n",
    "\n",
    "input.input-validation-error {\n",
    "    border: 1px solid #b94a48;\n",
    "}\n",
    "\n",
    "input[type=\"checkbox\"].input-validation-error {\n",
    "    border: 0 none;\n",
    "}\n",
    "\n",
    ".validation-summary-errors {\n",
    "    color: #b94a48;\n",
    "}\n",
    "\n",
    ".validation-summary-valid {\n",
    "    display: none;\n",
    "}"
   ]
  },
  {
   "cell_type": "code",
   "execution_count": null,
   "metadata": {
    "collapsed": true
   },
   "outputs": [],
   "source": [
    "%%writefile nerdetection_ddc/templates/output.html\n",
    "<!doctype html> \n",
    "<html> \n",
    "<head> \n",
    "<title>First app</title> \n",
    "<!--<link rel=\"stylesheet\" href=\"{{ url_for('static', filename='style.css') }}\"> -->\n",
    "</head> \n",
    "<body> \n",
    "<center>\n",
    "<h1>Entity Extractor</h1> \n",
    "<form method=post action=\"/output\">\n",
    "<textarea placeholder = \"Enter your text here\" name = \"content\" id = \"content\"  style=\"width:1000px; height:250px\" >{{ val }}</textarea>\n",
    "<br>\n",
    "<input type=submit value='See Results' name='submit_btn'>\n",
    "<h1>Entity Extractor Output</h1> \n",
    "<p> Key: <font color=\"blue\">Disease</font>, <font color=\"lime\">Drug/Chemical</font>\n",
    "<form>\n",
    "<p align=\"left\">{{ text|safe }}\n",
    "</form> \n",
    "</center>\n",
    "</body> \n",
    "</html>"
   ]
  },
  {
   "cell_type": "code",
   "execution_count": null,
   "metadata": {
    "collapsed": true
   },
   "outputs": [],
   "source": [
    "%%writefile nerdetection_ddc/templates/first_app.html\n",
    "<!doctype html> \n",
    "<html> \n",
    "<head> \n",
    "<title>First app</title> \n",
    "<!--<link rel=\"stylesheet\" href=\"{{ url_for('static', filename='style.css') }}\"> -->\n",
    "</head> \n",
    "<body> \n",
    "<center>\n",
    "<h1>Entity Extractor</h1> \n",
    "<form method=post action=\"/output\">\n",
    "<textarea placeholder = \"Enter your text here\" name = \"content\" id = \"content\" style=\"width:1000px; height:250px\">\n",
    "Baricitinib, Methotrexate, or Baricitinib Plus Methotrexate in Patients with Early Rheumatoid Arthritis Who Had Received Limited or No Treatment with Disease-Modifying-Anti-Rheumatic-Drugs (DMARDs): Phase 3 Trial Results.\n",
    "\n",
    "Keywords: Janus kinase (JAK), methotrexate (MTX) and rheumatoid arthritis (RA) and Clinical research.\n",
    "\n",
    "In 2 completed phase 3 studies, baricitinib (bari) improved disease activity with a satisfactory safety profile in patients (pts) with moderately-to-severely active RA who were inadequate responders to either conventional synthetic1 or biologic2DMARDs. This abstract reports results from a phase 3 study of bari administered as monotherapy or in combination with methotrexate (MTX) to pts with early active RA who had limited or no prior treatment with DMARDs. MTX monotherapy was the active comparator.\n",
    "</textarea>\n",
    "<br>\n",
    "<input type=submit value='See Results' name='submit_btn'> \n",
    "</form>\n",
    "</center> \n",
    "</body> \n",
    "</html>"
   ]
  },
  {
   "cell_type": "code",
   "execution_count": null,
   "metadata": {
    "collapsed": true
   },
   "outputs": [],
   "source": [
    "%%writefile nerdetection_ddc/templates/_formhelpers.html\n",
    "{% macro render_field(field) %} \n",
    "\t<dt>{{ field.label }} \n",
    "\t<dd>{{ field(**kwargs)|safe }} \n",
    "\t{% if field.errors %} \n",
    "\t\t<ul class=errors> \n",
    "\t\t{% for error in field.errors %} \n",
    "\t\t\t<li>{{ error }}</li> \n",
    "\t\t{% endfor %} \n",
    "\t\t</ul> \n",
    "\t{% endif %} \n",
    "\t</dd> \n",
    "{% endmacro %}"
   ]
  },
  {
   "cell_type": "markdown",
   "metadata": {},
   "source": [
    "#### Step 2: Create a Flask Web app that will be used to send request to the web service "
   ]
  },
  {
   "cell_type": "code",
   "execution_count": 81,
   "metadata": {},
   "outputs": [
    {
     "name": "stdout",
     "output_type": "stream",
     "text": [
      "Overwriting nerdetection_ddc/app.py\n"
     ]
    }
   ],
   "source": [
    "%%writefile nerdetection_ddc/app.py\n",
    "from flask import Flask, render_template, request\n",
    "from wtforms import Form, validators\n",
    "import numpy as np\n",
    "import requests\n",
    "import json\n",
    "\n",
    "app = Flask(__name__)\n",
    "\n",
    "@app.route('/') \n",
    "def hello(): \n",
    "    form = request.form \n",
    "    return render_template('first_app.html', form = form) \n",
    "\n",
    "@app.route('/output', methods=['POST']) \n",
    "def output(): \n",
    "    form = request.form\n",
    "    if request.method == 'POST':\n",
    "        content = request.form['content']\n",
    "        print content\n",
    "        app_url = 'specify the url of the service here'\n",
    "\n",
    "        scoring_url = 'http://{}/score'.format(app_url)\n",
    "\n",
    "        r = requests.get(scoring_url + '?input=' + content)\n",
    "        print(r.status_code)\n",
    "\n",
    "        string = r.content.decode('utf-8')\n",
    "        json_obj = json.loads(string)\n",
    "        text_annotated = json_obj['result'][0]   \n",
    "        print text_annotated\n",
    "        \n",
    "        return render_template('output.html', text = text_annotated, val = content)\n",
    "    \n",
    "    return render_template('first_app.html', form=form)  \n",
    "   \n",
    "if __name__ == '__main__': \n",
    "    app.run(host='0.0.0.0')"
   ]
  },
  {
   "cell_type": "markdown",
   "metadata": {},
   "source": [
    "#### Step 3<b> Add all the requirements for your website here</b>"
   ]
  },
  {
   "cell_type": "code",
   "execution_count": 82,
   "metadata": {},
   "outputs": [
    {
     "name": "stdout",
     "output_type": "stream",
     "text": [
      "Overwriting nerdetection_ddc/requirements.txt\n"
     ]
    }
   ],
   "source": [
    "%%writefile nerdetection_ddc/requirements.txt\n",
    "Flask\n",
    "wtforms\n",
    "requests\n",
    "numpy"
   ]
  },
  {
   "cell_type": "code",
   "execution_count": 83,
   "metadata": {},
   "outputs": [
    {
     "name": "stdout",
     "output_type": "stream",
     "text": [
      "nerdetection_ddc/dockerfile\n"
     ]
    }
   ],
   "source": [
    "image_name = \"akshaymehra/nerdetection_ddc\"\n",
    "application_path = 'nerdetection_ddc'\n",
    "docker_file_location = path.join(application_path, 'dockerfile')\n",
    "print(docker_file_location)"
   ]
  },
  {
   "cell_type": "markdown",
   "metadata": {},
   "source": [
    "<b> Create a Custom Image that has all the requirements in it </b>"
   ]
  },
  {
   "cell_type": "code",
   "execution_count": 84,
   "metadata": {},
   "outputs": [
    {
     "name": "stdout",
     "output_type": "stream",
     "text": [
      "Overwriting nerdetection_ddc/dockerfile\n"
     ]
    }
   ],
   "source": [
    "%%writefile nerdetection_ddc/dockerfile\n",
    "FROM ubuntu:16.04\n",
    "MAINTAINER Akshay Mehra <t-akmehr@microsoft.com>\n",
    "\n",
    "RUN mkdir /code\n",
    "WORKDIR /code\n",
    "ADD . /code/\n",
    "\n",
    "RUN apt-get update && apt-get install -y --no-install-recommends \\\n",
    "        openmpi-bin \\\n",
    "        python \\ \n",
    "        python-dev \\ \n",
    "        python-setuptools \\\n",
    "        python-pip && \\\n",
    "        pip install -r /code/requirements.txt\n",
    "\n",
    "EXPOSE 5000\n",
    "CMD [\"python\", \"app.py\"]"
   ]
  },
  {
   "cell_type": "code",
   "execution_count": 85,
   "metadata": {},
   "outputs": [
    {
     "name": "stdout",
     "output_type": "stream",
     "text": [
      "Sending build context to Docker daemon 12.29 kB\n",
      "Step 1/8 : FROM ubuntu:16.04\n",
      " ---> d355ed3537e9\n",
      "Step 2/8 : MAINTAINER Akshay Mehra <t-akmehr@microsoft.com>\n",
      " ---> Running in 0a1121cdbe7b\n",
      " ---> 2eb5fde2b3d0\n",
      "Removing intermediate container 0a1121cdbe7b\n",
      "Step 3/8 : RUN mkdir /code\n",
      " ---> Running in dc39c54bdbdc\n",
      " ---> dc3609ed6ea0\n",
      "Removing intermediate container dc39c54bdbdc\n",
      "Step 4/8 : WORKDIR /code\n",
      " ---> c376cda534a0\n",
      "Removing intermediate container 9c2d0bd0b6b6\n",
      "Step 5/8 : ADD . /code/\n",
      " ---> e616c2865a0c\n",
      "Removing intermediate container a969c4da2327\n",
      "Step 6/8 : RUN apt-get update && apt-get install -y --no-install-recommends         openmpi-bin         python         python-dev         python-setuptools         python-pip &&         pip install -r /code/requirements.txt\n",
      " ---> Running in 619e44bdded9\n",
      "Get:1 http://archive.ubuntu.com/ubuntu xenial InRelease [247 kB]\n",
      "Get:2 http://security.ubuntu.com/ubuntu xenial-security InRelease [102 kB]\n",
      "Get:3 http://archive.ubuntu.com/ubuntu xenial-updates InRelease [102 kB]\n",
      "Get:4 http://archive.ubuntu.com/ubuntu xenial-backports InRelease [102 kB]\n",
      "Get:5 http://security.ubuntu.com/ubuntu xenial-security/universe Sources [41.5 kB]\n",
      "Get:6 http://archive.ubuntu.com/ubuntu xenial/universe Sources [9802 kB]\n",
      "Get:7 http://security.ubuntu.com/ubuntu xenial-security/main amd64 Packages [380 kB]\n",
      "Get:8 http://security.ubuntu.com/ubuntu xenial-security/restricted amd64 Packages [12.8 kB]\n",
      "Get:9 http://security.ubuntu.com/ubuntu xenial-security/universe amd64 Packages [178 kB]\n",
      "Get:10 http://security.ubuntu.com/ubuntu xenial-security/multiverse amd64 Packages [2931 B]\n",
      "Get:11 http://archive.ubuntu.com/ubuntu xenial/main amd64 Packages [1558 kB]\n",
      "Get:12 http://archive.ubuntu.com/ubuntu xenial/restricted amd64 Packages [14.1 kB]\n",
      "Get:13 http://archive.ubuntu.com/ubuntu xenial/universe amd64 Packages [9827 kB]\n",
      "Get:14 http://archive.ubuntu.com/ubuntu xenial/multiverse amd64 Packages [176 kB]\n",
      "Get:15 http://archive.ubuntu.com/ubuntu xenial-updates/universe Sources [205 kB]\n",
      "Get:16 http://archive.ubuntu.com/ubuntu xenial-updates/main amd64 Packages [737 kB]\n",
      "Get:17 http://archive.ubuntu.com/ubuntu xenial-updates/restricted amd64 Packages [13.2 kB]\n",
      "Get:18 http://archive.ubuntu.com/ubuntu xenial-updates/universe amd64 Packages [639 kB]\n",
      "Get:19 http://archive.ubuntu.com/ubuntu xenial-updates/multiverse amd64 Packages [16.8 kB]\n",
      "Get:20 http://archive.ubuntu.com/ubuntu xenial-backports/main amd64 Packages [4930 B]\n",
      "Get:21 http://archive.ubuntu.com/ubuntu xenial-backports/universe amd64 Packages [6241 B]\n",
      "Fetched 24.2 MB in 3s (7376 kB/s)\n",
      "Reading package lists...\n",
      "Reading package lists...\n",
      "Building dependency tree...\n",
      "Reading state information...\n",
      "The following additional packages will be installed:\n",
      "  ca-certificates libc-dev-bin libc6-dev libexpat1 libexpat1-dev libffi6\n",
      "  libhwloc5 libibverbs1 libltdl7 libnuma1 libopenmpi1.10 libpython-dev\n",
      "  libpython-stdlib libpython2.7 libpython2.7-dev libpython2.7-minimal\n",
      "  libpython2.7-stdlib libsqlite3-0 libssl1.0.0 linux-libc-dev mime-support\n",
      "  openmpi-common openssl python-minimal python-pip-whl python-pkg-resources\n",
      "  python2.7 python2.7-dev python2.7-minimal\n",
      "Suggested packages:\n",
      "  glibc-doc manpages-dev libhwloc-contrib-plugins gfortran openmpi-checkpoint\n",
      "  python-doc python-tk python-setuptools-doc python2.7-doc binutils\n",
      "  binfmt-support\n",
      "Recommended packages:\n",
      "  manpages manpages-dev libhwloc-plugins file build-essential python-all-dev\n",
      "  python-wheel\n",
      "The following NEW packages will be installed:\n",
      "  ca-certificates libc-dev-bin libc6-dev libexpat1 libexpat1-dev libffi6\n",
      "  libhwloc5 libibverbs1 libltdl7 libnuma1 libopenmpi1.10 libpython-dev\n",
      "  libpython-stdlib libpython2.7 libpython2.7-dev libpython2.7-minimal\n",
      "  libpython2.7-stdlib libsqlite3-0 libssl1.0.0 linux-libc-dev mime-support\n",
      "  openmpi-bin openmpi-common openssl python python-dev python-minimal\n",
      "  python-pip python-pip-whl python-pkg-resources python-setuptools python2.7\n",
      "  python2.7-dev python2.7-minimal\n",
      "0 upgraded, 34 newly installed, 0 to remove and 10 not upgraded.\n",
      "Need to get 42.4 MB of archives.\n",
      "After this operation, 97.9 MB of additional disk space will be used.\n",
      "Get:1 http://archive.ubuntu.com/ubuntu xenial-updates/main amd64 libpython2.7-minimal amd64 2.7.12-1ubuntu0~16.04.1 [339 kB]\n",
      "Get:2 http://archive.ubuntu.com/ubuntu xenial-updates/main amd64 python2.7-minimal amd64 2.7.12-1ubuntu0~16.04.1 [1295 kB]\n",
      "Get:3 http://archive.ubuntu.com/ubuntu xenial/main amd64 python-minimal amd64 2.7.11-1 [28.2 kB]\n",
      "Get:4 http://archive.ubuntu.com/ubuntu xenial/main amd64 mime-support all 3.59ubuntu1 [31.0 kB]\n",
      "Get:5 http://archive.ubuntu.com/ubuntu xenial-updates/main amd64 libexpat1 amd64 2.1.0-7ubuntu0.16.04.2 [71.3 kB]\n",
      "Get:6 http://archive.ubuntu.com/ubuntu xenial/main amd64 libffi6 amd64 3.2.1-4 [17.8 kB]\n",
      "Get:7 http://archive.ubuntu.com/ubuntu xenial/main amd64 libsqlite3-0 amd64 3.11.0-1ubuntu1 [396 kB]\n",
      "Get:8 http://archive.ubuntu.com/ubuntu xenial-updates/main amd64 libssl1.0.0 amd64 1.0.2g-1ubuntu4.8 [1081 kB]\n",
      "Get:9 http://archive.ubuntu.com/ubuntu xenial-updates/main amd64 libpython2.7-stdlib amd64 2.7.12-1ubuntu0~16.04.1 [1884 kB]\n",
      "Get:10 http://archive.ubuntu.com/ubuntu xenial-updates/main amd64 python2.7 amd64 2.7.12-1ubuntu0~16.04.1 [224 kB]\n",
      "Get:11 http://archive.ubuntu.com/ubuntu xenial/main amd64 libpython-stdlib amd64 2.7.11-1 [7656 B]\n",
      "Get:12 http://archive.ubuntu.com/ubuntu xenial/main amd64 python amd64 2.7.11-1 [137 kB]\n",
      "Get:13 http://archive.ubuntu.com/ubuntu xenial-updates/main amd64 openssl amd64 1.0.2g-1ubuntu4.8 [492 kB]\n",
      "Get:14 http://archive.ubuntu.com/ubuntu xenial/main amd64 ca-certificates all 20160104ubuntu1 [191 kB]\n",
      "Get:15 http://archive.ubuntu.com/ubuntu xenial/main amd64 libnuma1 amd64 2.0.11-1ubuntu1 [21.0 kB]\n",
      "Get:16 http://archive.ubuntu.com/ubuntu xenial-updates/main amd64 libc-dev-bin amd64 2.23-0ubuntu9 [68.6 kB]\n",
      "Get:17 http://archive.ubuntu.com/ubuntu xenial-updates/main amd64 linux-libc-dev amd64 4.4.0-83.106 [843 kB]\n",
      "Get:18 http://archive.ubuntu.com/ubuntu xenial-updates/main amd64 libc6-dev amd64 2.23-0ubuntu9 [2082 kB]\n",
      "Get:19 http://archive.ubuntu.com/ubuntu xenial-updates/main amd64 libexpat1-dev amd64 2.1.0-7ubuntu0.16.04.2 [115 kB]\n",
      "Get:20 http://archive.ubuntu.com/ubuntu xenial/main amd64 libltdl7 amd64 2.4.6-0.1 [38.3 kB]\n",
      "Get:21 http://archive.ubuntu.com/ubuntu xenial-updates/main amd64 libpython2.7 amd64 2.7.12-1ubuntu0~16.04.1 [1070 kB]\n",
      "Get:22 http://archive.ubuntu.com/ubuntu xenial-updates/main amd64 libpython2.7-dev amd64 2.7.12-1ubuntu0~16.04.1 [27.8 MB]\n",
      "Get:23 http://archive.ubuntu.com/ubuntu xenial/main amd64 libpython-dev amd64 2.7.11-1 [7728 B]\n",
      "Get:24 http://archive.ubuntu.com/ubuntu xenial/universe amd64 libhwloc5 amd64 1.11.2-3 [99.5 kB]\n",
      "Get:25 http://archive.ubuntu.com/ubuntu xenial/main amd64 libibverbs1 amd64 1.1.8-1.1ubuntu2 [25.0 kB]\n",
      "Get:26 http://archive.ubuntu.com/ubuntu xenial/universe amd64 libopenmpi1.10 amd64 1.10.2-8ubuntu1 [2025 kB]\n",
      "Get:27 http://archive.ubuntu.com/ubuntu xenial/universe amd64 openmpi-common all 1.10.2-8ubuntu1 [129 kB]\n",
      "Get:28 http://archive.ubuntu.com/ubuntu xenial/universe amd64 openmpi-bin amd64 1.10.2-8ubuntu1 [100 kB]\n",
      "Get:29 http://archive.ubuntu.com/ubuntu xenial-updates/main amd64 python2.7-dev amd64 2.7.12-1ubuntu0~16.04.1 [276 kB]\n",
      "Get:30 http://archive.ubuntu.com/ubuntu xenial/main amd64 python-dev amd64 2.7.11-1 [1160 B]\n",
      "Get:31 http://archive.ubuntu.com/ubuntu xenial-updates/universe amd64 python-pip-whl all 8.1.1-2ubuntu0.4 [1110 kB]\n",
      "Get:32 http://archive.ubuntu.com/ubuntu xenial-updates/universe amd64 python-pip all 8.1.1-2ubuntu0.4 [144 kB]\n",
      "Get:33 http://archive.ubuntu.com/ubuntu xenial/main amd64 python-pkg-resources all 20.7.0-1 [108 kB]\n",
      "Get:34 http://archive.ubuntu.com/ubuntu xenial/main amd64 python-setuptools all 20.7.0-1 [169 kB]\n",
      "\u001b[91mdebconf: delaying package configuration, since apt-utils is not installed\n",
      "\u001b[0mFetched 42.4 MB in 2s (15.0 MB/s)\n",
      "Selecting previously unselected package libpython2.7-minimal:amd64.\n",
      "(Reading database ... 4764 files and directories currently installed.)\n",
      "Preparing to unpack .../libpython2.7-minimal_2.7.12-1ubuntu0~16.04.1_amd64.deb ...\n",
      "Unpacking libpython2.7-minimal:amd64 (2.7.12-1ubuntu0~16.04.1) ...\n",
      "Selecting previously unselected package python2.7-minimal.\n",
      "Preparing to unpack .../python2.7-minimal_2.7.12-1ubuntu0~16.04.1_amd64.deb ...\n",
      "Unpacking python2.7-minimal (2.7.12-1ubuntu0~16.04.1) ...\n",
      "Selecting previously unselected package python-minimal.\n",
      "Preparing to unpack .../python-minimal_2.7.11-1_amd64.deb ...\n",
      "Unpacking python-minimal (2.7.11-1) ...\n",
      "Selecting previously unselected package mime-support.\n",
      "Preparing to unpack .../mime-support_3.59ubuntu1_all.deb ...\n",
      "Unpacking mime-support (3.59ubuntu1) ...\n",
      "Selecting previously unselected package libexpat1:amd64.\n",
      "Preparing to unpack .../libexpat1_2.1.0-7ubuntu0.16.04.2_amd64.deb ...\n",
      "Unpacking libexpat1:amd64 (2.1.0-7ubuntu0.16.04.2) ...\n",
      "Selecting previously unselected package libffi6:amd64.\n",
      "Preparing to unpack .../libffi6_3.2.1-4_amd64.deb ...\n",
      "Unpacking libffi6:amd64 (3.2.1-4) ...\n",
      "Selecting previously unselected package libsqlite3-0:amd64.\n",
      "Preparing to unpack .../libsqlite3-0_3.11.0-1ubuntu1_amd64.deb ...\n",
      "Unpacking libsqlite3-0:amd64 (3.11.0-1ubuntu1) ...\n",
      "Selecting previously unselected package libssl1.0.0:amd64.\n",
      "Preparing to unpack .../libssl1.0.0_1.0.2g-1ubuntu4.8_amd64.deb ...\n",
      "Unpacking libssl1.0.0:amd64 (1.0.2g-1ubuntu4.8) ...\n",
      "Selecting previously unselected package libpython2.7-stdlib:amd64.\n",
      "Preparing to unpack .../libpython2.7-stdlib_2.7.12-1ubuntu0~16.04.1_amd64.deb ...\n",
      "Unpacking libpython2.7-stdlib:amd64 (2.7.12-1ubuntu0~16.04.1) ...\n",
      "Selecting previously unselected package python2.7.\n",
      "Preparing to unpack .../python2.7_2.7.12-1ubuntu0~16.04.1_amd64.deb ...\n",
      "Unpacking python2.7 (2.7.12-1ubuntu0~16.04.1) ...\n",
      "Selecting previously unselected package libpython-stdlib:amd64.\n",
      "Preparing to unpack .../libpython-stdlib_2.7.11-1_amd64.deb ...\n",
      "Unpacking libpython-stdlib:amd64 (2.7.11-1) ...\n",
      "Processing triggers for libc-bin (2.23-0ubuntu9) ...\n",
      "Setting up libpython2.7-minimal:amd64 (2.7.12-1ubuntu0~16.04.1) ...\n",
      "Setting up python2.7-minimal (2.7.12-1ubuntu0~16.04.1) ...\n",
      "Linking and byte-compiling packages for runtime python2.7...\n",
      "Setting up python-minimal (2.7.11-1) ...\n",
      "Selecting previously unselected package python.\n",
      "(Reading database ... 5575 files and directories currently installed.)\n",
      "Preparing to unpack .../python_2.7.11-1_amd64.deb ...\n",
      "Unpacking python (2.7.11-1) ...\n",
      "Selecting previously unselected package openssl.\n",
      "Preparing to unpack .../openssl_1.0.2g-1ubuntu4.8_amd64.deb ...\n",
      "Unpacking openssl (1.0.2g-1ubuntu4.8) ...\n",
      "Selecting previously unselected package ca-certificates.\n",
      "Preparing to unpack .../ca-certificates_20160104ubuntu1_all.deb ...\n",
      "Unpacking ca-certificates (20160104ubuntu1) ...\n",
      "Selecting previously unselected package libnuma1:amd64.\n",
      "Preparing to unpack .../libnuma1_2.0.11-1ubuntu1_amd64.deb ...\n",
      "Unpacking libnuma1:amd64 (2.0.11-1ubuntu1) ...\n",
      "Selecting previously unselected package libc-dev-bin.\n",
      "Preparing to unpack .../libc-dev-bin_2.23-0ubuntu9_amd64.deb ...\n",
      "Unpacking libc-dev-bin (2.23-0ubuntu9) ...\n",
      "Selecting previously unselected package linux-libc-dev:amd64.\n",
      "Preparing to unpack .../linux-libc-dev_4.4.0-83.106_amd64.deb ...\n",
      "Unpacking linux-libc-dev:amd64 (4.4.0-83.106) ...\n",
      "Selecting previously unselected package libc6-dev:amd64.\n",
      "Preparing to unpack .../libc6-dev_2.23-0ubuntu9_amd64.deb ...\n",
      "Unpacking libc6-dev:amd64 (2.23-0ubuntu9) ...\n",
      "Selecting previously unselected package libexpat1-dev:amd64.\n",
      "Preparing to unpack .../libexpat1-dev_2.1.0-7ubuntu0.16.04.2_amd64.deb ...\n",
      "Unpacking libexpat1-dev:amd64 (2.1.0-7ubuntu0.16.04.2) ...\n",
      "Selecting previously unselected package libltdl7:amd64.\n",
      "Preparing to unpack .../libltdl7_2.4.6-0.1_amd64.deb ...\n",
      "Unpacking libltdl7:amd64 (2.4.6-0.1) ...\n",
      "Selecting previously unselected package libpython2.7:amd64.\n",
      "Preparing to unpack .../libpython2.7_2.7.12-1ubuntu0~16.04.1_amd64.deb ...\n",
      "Unpacking libpython2.7:amd64 (2.7.12-1ubuntu0~16.04.1) ...\n",
      "Selecting previously unselected package libpython2.7-dev:amd64.\n",
      "Preparing to unpack .../libpython2.7-dev_2.7.12-1ubuntu0~16.04.1_amd64.deb ...\n",
      "Unpacking libpython2.7-dev:amd64 (2.7.12-1ubuntu0~16.04.1) ...\n",
      "Selecting previously unselected package libpython-dev:amd64.\n",
      "Preparing to unpack .../libpython-dev_2.7.11-1_amd64.deb ...\n",
      "Unpacking libpython-dev:amd64 (2.7.11-1) ...\n",
      "Selecting previously unselected package libhwloc5:amd64.\n",
      "Preparing to unpack .../libhwloc5_1.11.2-3_amd64.deb ...\n",
      "Unpacking libhwloc5:amd64 (1.11.2-3) ...\n",
      "Selecting previously unselected package libibverbs1.\n",
      "Preparing to unpack .../libibverbs1_1.1.8-1.1ubuntu2_amd64.deb ...\n",
      "Unpacking libibverbs1 (1.1.8-1.1ubuntu2) ...\n",
      "Selecting previously unselected package libopenmpi1.10.\n",
      "Preparing to unpack .../libopenmpi1.10_1.10.2-8ubuntu1_amd64.deb ...\n",
      "Unpacking libopenmpi1.10 (1.10.2-8ubuntu1) ...\n",
      "Selecting previously unselected package openmpi-common.\n",
      "Preparing to unpack .../openmpi-common_1.10.2-8ubuntu1_all.deb ...\n",
      "Unpacking openmpi-common (1.10.2-8ubuntu1) ...\n",
      "Selecting previously unselected package openmpi-bin.\n",
      "Preparing to unpack .../openmpi-bin_1.10.2-8ubuntu1_amd64.deb ...\n",
      "Unpacking openmpi-bin (1.10.2-8ubuntu1) ...\n",
      "Selecting previously unselected package python2.7-dev.\n",
      "Preparing to unpack .../python2.7-dev_2.7.12-1ubuntu0~16.04.1_amd64.deb ...\n",
      "Unpacking python2.7-dev (2.7.12-1ubuntu0~16.04.1) ...\n",
      "Selecting previously unselected package python-dev.\n",
      "Preparing to unpack .../python-dev_2.7.11-1_amd64.deb ...\n",
      "Unpacking python-dev (2.7.11-1) ...\n",
      "Selecting previously unselected package python-pip-whl.\n",
      "Preparing to unpack .../python-pip-whl_8.1.1-2ubuntu0.4_all.deb ...\n",
      "Unpacking python-pip-whl (8.1.1-2ubuntu0.4) ...\n",
      "Selecting previously unselected package python-pip.\n",
      "Preparing to unpack .../python-pip_8.1.1-2ubuntu0.4_all.deb ...\n",
      "Unpacking python-pip (8.1.1-2ubuntu0.4) ...\n",
      "Selecting previously unselected package python-pkg-resources.\n",
      "Preparing to unpack .../python-pkg-resources_20.7.0-1_all.deb ...\n",
      "Unpacking python-pkg-resources (20.7.0-1) ...\n",
      "Selecting previously unselected package python-setuptools.\n",
      "Preparing to unpack .../python-setuptools_20.7.0-1_all.deb ...\n",
      "Unpacking python-setuptools (20.7.0-1) ...\n",
      "Processing triggers for libc-bin (2.23-0ubuntu9) ...\n",
      "Setting up mime-support (3.59ubuntu1) ...\n",
      "Setting up libexpat1:amd64 (2.1.0-7ubuntu0.16.04.2) ...\n",
      "Setting up libffi6:amd64 (3.2.1-4) ...\n",
      "Setting up libsqlite3-0:amd64 (3.11.0-1ubuntu1) ...\n",
      "Setting up libssl1.0.0:amd64 (1.0.2g-1ubuntu4.8) ...\n",
      "debconf: unable to initialize frontend: Dialog\n",
      "debconf: (TERM is not set, so the dialog frontend is not usable.)\n",
      "debconf: falling back to frontend: Readline\n",
      "debconf: unable to initialize frontend: Readline\n",
      "debconf: (Can't locate Term/ReadLine.pm in @INC (you may need to install the Term::ReadLine module) (@INC contains: /etc/perl /usr/local/lib/x86_64-linux-gnu/perl/5.22.1 /usr/local/share/perl/5.22.1 /usr/lib/x86_64-linux-gnu/perl5/5.22 /usr/share/perl5 /usr/lib/x86_64-linux-gnu/perl/5.22 /usr/share/perl/5.22 /usr/local/lib/site_perl /usr/lib/x86_64-linux-gnu/perl-base .) at /usr/share/perl5/Debconf/FrontEnd/Readline.pm line 7.)\n",
      "debconf: falling back to frontend: Teletype\n",
      "Setting up libpython2.7-stdlib:amd64 (2.7.12-1ubuntu0~16.04.1) ...\n",
      "Setting up python2.7 (2.7.12-1ubuntu0~16.04.1) ...\n",
      "Setting up libpython-stdlib:amd64 (2.7.11-1) ...\n",
      "Setting up python (2.7.11-1) ...\n",
      "Setting up openssl (1.0.2g-1ubuntu4.8) ...\n",
      "Setting up ca-certificates (20160104ubuntu1) ...\n",
      "debconf: unable to initialize frontend: Dialog\n",
      "debconf: (TERM is not set, so the dialog frontend is not usable.)\n",
      "debconf: falling back to frontend: Readline\n",
      "debconf: unable to initialize frontend: Readline\n",
      "debconf: (Can't locate Term/ReadLine.pm in @INC (you may need to install the Term::ReadLine module) (@INC contains: /etc/perl /usr/local/lib/x86_64-linux-gnu/perl/5.22.1 /usr/local/share/perl/5.22.1 /usr/lib/x86_64-linux-gnu/perl5/5.22 /usr/share/perl5 /usr/lib/x86_64-linux-gnu/perl/5.22 /usr/share/perl/5.22 /usr/local/lib/site_perl /usr/lib/x86_64-linux-gnu/perl-base .) at /usr/share/perl5/Debconf/FrontEnd/Readline.pm line 7.)\n",
      "debconf: falling back to frontend: Teletype\n",
      "Setting up libnuma1:amd64 (2.0.11-1ubuntu1) ...\n",
      "Setting up libc-dev-bin (2.23-0ubuntu9) ...\n",
      "Setting up linux-libc-dev:amd64 (4.4.0-83.106) ...\n",
      "Setting up libc6-dev:amd64 (2.23-0ubuntu9) ...\n",
      "Setting up libexpat1-dev:amd64 (2.1.0-7ubuntu0.16.04.2) ...\n",
      "Setting up libltdl7:amd64 (2.4.6-0.1) ...\n",
      "Setting up libpython2.7:amd64 (2.7.12-1ubuntu0~16.04.1) ...\n",
      "Setting up libpython2.7-dev:amd64 (2.7.12-1ubuntu0~16.04.1) ...\n",
      "Setting up libpython-dev:amd64 (2.7.11-1) ...\n",
      "Setting up libhwloc5:amd64 (1.11.2-3) ...\n",
      "Setting up libibverbs1 (1.1.8-1.1ubuntu2) ...\n",
      "Setting up libopenmpi1.10 (1.10.2-8ubuntu1) ...\n",
      "Setting up openmpi-common (1.10.2-8ubuntu1) ...\n",
      "Setting up openmpi-bin (1.10.2-8ubuntu1) ...\n",
      "update-alternatives: using /usr/bin/mpirun.openmpi to provide /usr/bin/mpirun (mpirun) in auto mode\n",
      "Setting up python2.7-dev (2.7.12-1ubuntu0~16.04.1) ...\n",
      "Setting up python-dev (2.7.11-1) ...\n",
      "Setting up python-pip-whl (8.1.1-2ubuntu0.4) ...\n",
      "Setting up python-pip (8.1.1-2ubuntu0.4) ...\n",
      "Setting up python-pkg-resources (20.7.0-1) ...\n",
      "Setting up python-setuptools (20.7.0-1) ...\n",
      "Processing triggers for libc-bin (2.23-0ubuntu9) ...\n",
      "Processing triggers for ca-certificates (20160104ubuntu1) ...\n",
      "Updating certificates in /etc/ssl/certs...\n",
      "173 added, 0 removed; done.\n",
      "Running hooks in /etc/ca-certificates/update.d...\n",
      "done.\n",
      "Collecting Flask (from -r /code/requirements.txt (line 1))\n",
      "  Downloading Flask-0.12.2-py2.py3-none-any.whl (83kB)\n",
      "Collecting wtforms (from -r /code/requirements.txt (line 2))\n",
      "  Downloading WTForms-2.1.zip (553kB)\n",
      "Collecting requests (from -r /code/requirements.txt (line 3))\n",
      "  Downloading requests-2.18.1-py2.py3-none-any.whl (88kB)\n",
      "Collecting numpy (from -r /code/requirements.txt (line 4))\n",
      "  Downloading numpy-1.13.1-cp27-cp27mu-manylinux1_x86_64.whl (16.6MB)\n",
      "Collecting itsdangerous>=0.21 (from Flask->-r /code/requirements.txt (line 1))\n",
      "  Downloading itsdangerous-0.24.tar.gz (46kB)\n",
      "Collecting click>=2.0 (from Flask->-r /code/requirements.txt (line 1))\n",
      "  Downloading click-6.7-py2.py3-none-any.whl (71kB)\n",
      "Collecting Werkzeug>=0.7 (from Flask->-r /code/requirements.txt (line 1))\n",
      "  Downloading Werkzeug-0.12.2-py2.py3-none-any.whl (312kB)\n",
      "Collecting Jinja2>=2.4 (from Flask->-r /code/requirements.txt (line 1))\n",
      "  Downloading Jinja2-2.9.6-py2.py3-none-any.whl (340kB)\n",
      "Collecting idna<2.6,>=2.5 (from requests->-r /code/requirements.txt (line 3))\n",
      "  Downloading idna-2.5-py2.py3-none-any.whl (55kB)\n",
      "Collecting urllib3<1.22,>=1.21.1 (from requests->-r /code/requirements.txt (line 3))\n",
      "  Downloading urllib3-1.21.1-py2.py3-none-any.whl (131kB)\n",
      "Collecting chardet<3.1.0,>=3.0.2 (from requests->-r /code/requirements.txt (line 3))\n",
      "  Downloading chardet-3.0.4-py2.py3-none-any.whl (133kB)\n",
      "Collecting certifi>=2017.4.17 (from requests->-r /code/requirements.txt (line 3))\n",
      "  Downloading certifi-2017.4.17-py2.py3-none-any.whl (375kB)\n",
      "Collecting MarkupSafe>=0.23 (from Jinja2>=2.4->Flask->-r /code/requirements.txt (line 1))\n",
      "  Downloading MarkupSafe-1.0.tar.gz\n",
      "Building wheels for collected packages: wtforms, itsdangerous, MarkupSafe\n",
      "  Running setup.py bdist_wheel for wtforms: started\n",
      "  Running setup.py bdist_wheel for wtforms: finished with status 'error'\n",
      "  Complete output from command /usr/bin/python -u -c \"import setuptools, tokenize;__file__='/tmp/pip-build-v7dhK0/wtforms/setup.py';exec(compile(getattr(tokenize, 'open', open)(__file__).read().replace('\\r\\n', '\\n'), __file__, 'exec'))\" bdist_wheel -d /tmp/tmpbRA53fpip-wheel- --python-tag cp27:\n",
      "  usage: -c [global_opts] cmd1 [cmd1_opts] [cmd2 [cmd2_opts] ...]\n",
      "     or: -c --help [cmd1 cmd2 ...]\n",
      "     or: -c --help-commands\n",
      "     or: -c cmd --help\n",
      "  \n",
      "  error: invalid command 'bdist_wheel'\n",
      "  \n",
      "  ----------------------------------------\n",
      "\u001b[91m  Failed building wheel for wtforms\n",
      "\u001b[0m  Running setup.py clean for wtforms\n",
      "  Running setup.py bdist_wheel for itsdangerous: started\n",
      "  Running setup.py bdist_wheel for itsdangerous: finished with status 'error'\n",
      "  Complete output from command /usr/bin/python -u -c \"import setuptools, tokenize;__file__='/tmp/pip-build-v7dhK0/itsdangerous/setup.py';exec(compile(getattr(tokenize, 'open', open)(__file__).read().replace('\\r\\n', '\\n'), __file__, 'exec'))\" bdist_wheel -d /tmp/tmp9uu5j_pip-wheel- --python-tag cp27:\n",
      "  usage: -c [global_opts] cmd1 [cmd1_opts] [cmd2 [cmd2_opts] ...]\n",
      "     or: -c --help [cmd1 cmd2 ...]\n",
      "     or: -c --help-commands\n",
      "     or: -c cmd --help\n",
      "  \n",
      "  error: invalid command 'bdist_wheel'\n",
      "  \n",
      "  ----------------------------------------\n",
      "\u001b[91m  Failed building wheel for itsdangerous\n",
      "\u001b[0m  Running setup.py clean for itsdangerous\n",
      "  Running setup.py bdist_wheel for MarkupSafe: started\n",
      "  Running setup.py bdist_wheel for MarkupSafe: finished with status 'error'\n",
      "  Complete output from command /usr/bin/python -u -c \"import setuptools, tokenize;__file__='/tmp/pip-build-v7dhK0/MarkupSafe/setup.py';exec(compile(getattr(tokenize, 'open', open)(__file__).read().replace('\\r\\n', '\\n'), __file__, 'exec'))\" bdist_wheel -d /tmp/tmpdeagw4pip-wheel- --python-tag cp27:\n",
      "  usage: -c [global_opts] cmd1 [cmd1_opts] [cmd2 [cmd2_opts] ...]\n",
      "     or: -c --help [cmd1 cmd2 ...]\n",
      "     or: -c --help-commands\n",
      "     or: -c cmd --help\n",
      "  \n",
      "  error: invalid command 'bdist_wheel'\n",
      "  \n",
      "  ----------------------------------------\n",
      "\u001b[91m  Failed building wheel for MarkupSafe\n",
      "\u001b[0m  Running setup.py clean for MarkupSafe\n",
      "Failed to build wtforms itsdangerous MarkupSafe\n",
      "Installing collected packages: itsdangerous, click, Werkzeug, MarkupSafe, Jinja2, Flask, wtforms, idna, urllib3, chardet, certifi, requests, numpy\n",
      "  Running setup.py install for itsdangerous: started\n",
      "    Running setup.py install for itsdangerous: finished with status 'done'\n",
      "  Running setup.py install for MarkupSafe: started\n",
      "    Running setup.py install for MarkupSafe: finished with status 'done'\n",
      "  Running setup.py install for wtforms: started\n",
      "    Running setup.py install for wtforms: finished with status 'done'\n",
      "Successfully installed Flask-0.12.2 Jinja2-2.9.6 MarkupSafe-1.0 Werkzeug-0.12.2 certifi-2017.4.17 chardet-3.0.4 click-6.7 idna-2.5 itsdangerous-0.24 numpy-1.13.1 requests-2.18.1 urllib3-1.21.1 wtforms-2.1\n",
      "\u001b[91mYou are using pip version 8.1.1, however version 9.0.1 is available.\n",
      "You should consider upgrading via the 'pip install --upgrade pip' command.\n",
      "\u001b[0m ---> f49d293575e4\n",
      "Removing intermediate container 619e44bdded9\n",
      "Step 7/8 : EXPOSE 5000\n",
      " ---> Running in 4584c84204b9\n",
      " ---> 2994b293a81c\n",
      "Removing intermediate container 4584c84204b9\n",
      "Step 8/8 : CMD python app.py\n",
      " ---> Running in a9a4edfc57ea\n",
      " ---> 7e48dfc3f1dc\n",
      "Removing intermediate container a9a4edfc57ea\n",
      "Successfully built 7e48dfc3f1dc\n"
     ]
    }
   ],
   "source": [
    "!sudo docker build -t $image_name -f $docker_file_location $application_path --no-cache"
   ]
  },
  {
   "cell_type": "code",
   "execution_count": 86,
   "metadata": {},
   "outputs": [
    {
     "name": "stdout",
     "output_type": "stream",
     "text": [
      "Login Succeeded\r\n"
     ]
    }
   ],
   "source": [
    "!sudo docker login -u username -p password"
   ]
  },
  {
   "cell_type": "code",
   "execution_count": 87,
   "metadata": {
    "collapsed": true
   },
   "outputs": [],
   "source": [
    "!sudo docker tag $image_name \"docker.io/akshaymehra/nerdetection_ddc\""
   ]
  },
  {
   "cell_type": "code",
   "execution_count": 88,
   "metadata": {},
   "outputs": [
    {
     "name": "stdout",
     "output_type": "stream",
     "text": [
      "The push refers to a repository [docker.io/akshaymehra/nerdetection_ddc]\n",
      "\n",
      "\u001b[1B63f1889b: Preparing \n",
      "\u001b[1B7d1798db: Preparing \n",
      "\u001b[1B215facff: Preparing \n",
      "\u001b[1Bc118947e: Preparing \n",
      "\u001b[1Bf951edf5: Preparing \n",
      "\u001b[1B2a55830d: Preparing \n",
      "\u001b[1B2c9a24fc: Preparing \n",
      "\u001b[8B63f1889b: Pushed  251.9 MB/247.3 MB\u001b[8A\u001b[2K\u001b[2A\u001b[2K\u001b[8A\u001b[2K\u001b[8A\u001b[2K\u001b[8A\u001b[2K\u001b[1A\u001b[2K\u001b[8A\u001b[2K\u001b[8A\u001b[2K\u001b[8A\u001b[2K\u001b[8A\u001b[2K\u001b[8A\u001b[2K\u001b[8A\u001b[2K\u001b[8A\u001b[2K\u001b[7A\u001b[2K\u001b[8A\u001b[2K\u001b[8A\u001b[2K\u001b[8A\u001b[2K\u001b[6A\u001b[2K\u001b[8A\u001b[2K\u001b[8A\u001b[2K\u001b[8A\u001b[2K\u001b[8A\u001b[2K\u001b[8A\u001b[2K\u001b[8A\u001b[2K\u001b[8A\u001b[2K\u001b[8A\u001b[2K\u001b[8A\u001b[2K\u001b[8A\u001b[2K\u001b[8A\u001b[2K\u001b[8A\u001b[2K\u001b[8A\u001b[2K\u001b[8A\u001b[2K\u001b[8A\u001b[2K\u001b[8A\u001b[2K\u001b[8A\u001b[2K\u001b[8A\u001b[2K\u001b[8A\u001b[2K\u001b[8A\u001b[2K\u001b[8A\u001b[2K\u001b[8A\u001b[2K\u001b[8A\u001b[2K\u001b[8A\u001b[2K\u001b[8A\u001b[2K\u001b[8A\u001b[2K\u001b[8A\u001b[2K\u001b[8A\u001b[2K\u001b[8A\u001b[2K\u001b[8A\u001b[2K\u001b[8A\u001b[2K\u001b[8A\u001b[2K\u001b[8A\u001b[2K\u001b[8A\u001b[2K\u001b[8A\u001b[2K\u001b[8A\u001b[2K\u001b[8A\u001b[2K\u001b[8A\u001b[2K\u001b[8A\u001b[2K\u001b[8A\u001b[2K\u001b[8A\u001b[2K\u001b[8A\u001b[2K\u001b[8A\u001b[2K\u001b[8A\u001b[2K\u001b[8A\u001b[2K\u001b[8A\u001b[2K\u001b[8A\u001b[2K\u001b[8A\u001b[2K\u001b[8A\u001b[2K\u001b[8A\u001b[2K\u001b[8A\u001b[2K\u001b[8A\u001b[2K\u001b[8A\u001b[2K\u001b[8A\u001b[2K\u001b[8A\u001b[2K\u001b[8A\u001b[2K\u001b[8A\u001b[2K\u001b[8A\u001b[2K\u001b[8A\u001b[2K\u001b[8A\u001b[2K\u001b[8A\u001b[2K\u001b[8A\u001b[2K\u001b[8A\u001b[2K\u001b[8A\u001b[2K\u001b[8A\u001b[2K\u001b[8A\u001b[2K\u001b[8A\u001b[2K\u001b[8A\u001b[2K\u001b[8A\u001b[2K\u001b[8A\u001b[2K\u001b[8A\u001b[2K\u001b[8A\u001b[2K\u001b[8A\u001b[2K\u001b[8A\u001b[2K\u001b[8A\u001b[2K\u001b[8A\u001b[2K\u001b[8A\u001b[2K\u001b[8A\u001b[2K\u001b[8A\u001b[2K\u001b[8A\u001b[2K\u001b[8A\u001b[2K\u001b[8A\u001b[2K\u001b[8A\u001b[2K\u001b[8A\u001b[2K\u001b[8A\u001b[2K\u001b[8A\u001b[2K\u001b[8A\u001b[2Klatest: digest: sha256:186720527ceb6234334fadbe3662c0b1b01f8c50b41fe2b8c08f0f0d0161de01 size: 1984\n"
     ]
    }
   ],
   "source": [
    "!sudo docker push $image_name"
   ]
  },
  {
   "cell_type": "code",
   "execution_count": 89,
   "metadata": {},
   "outputs": [
    {
     "name": "stdout",
     "output_type": "stream",
     "text": [
      "Docker image name akshaymehra/nerdetection_ddc\n"
     ]
    }
   ],
   "source": [
    "print('Docker image name {}'.format(image_name)) "
   ]
  },
  {
   "cell_type": "code",
   "execution_count": 90,
   "metadata": {},
   "outputs": [],
   "source": [
    "### Test Locally \n",
    "!sudo docker run -it -p 5000:5000 akshaymehra/nerdetection_ddc\n",
    "## Access the website on port 5000 of your machine eg. http://your_machine_ip:5000/"
   ]
  },
  {
   "cell_type": "markdown",
   "metadata": {},
   "source": [
    "#### Step 4: <b> Deploy the Docker Imgae on Azure </b>"
   ]
  },
  {
   "cell_type": "markdown",
   "metadata": {},
   "source": [
    "Follow <a href = \"https://docs.microsoft.com/en-us/azure/app-service-web/app-service-linux-using-custom-docker-image#how-to-set-a-custom-docker-image-for-a-web-app\"> this </a>to deploy your image on Azure"
   ]
  },
  {
   "cell_type": "markdown",
   "metadata": {},
   "source": [
    "Follow <a href=\"https://docs.microsoft.com/en-us/azure/app-service-web/app-service-linux-using-custom-docker-image#how-to-set-the-port-used-by-your-docker-image\"> this</a> to set the port of the web app to 5000 as specified in the Docker File"
   ]
  }
 ],
 "metadata": {
  "kernelspec": {
   "display_name": "Python [default]",
   "language": "python",
   "name": "python2"
  },
  "language_info": {
   "codemirror_mode": {
    "name": "ipython",
    "version": 2
   },
   "file_extension": ".py",
   "mimetype": "text/x-python",
   "name": "python",
   "nbconvert_exporter": "python",
   "pygments_lexer": "ipython2",
   "version": "2.7.13"
  }
 },
 "nbformat": 4,
 "nbformat_minor": 2
}
