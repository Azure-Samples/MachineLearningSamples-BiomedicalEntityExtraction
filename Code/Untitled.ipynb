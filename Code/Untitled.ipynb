{
 "cells": [
  {
   "cell_type": "code",
   "execution_count": 11,
   "metadata": {},
   "outputs": [
    {
     "name": "stdout",
     "output_type": "stream",
     "text": [
      "ftp://ftp.nlm.nih.gov/nlmdata/.medleasebaseline/gz/medline16n0001.xml.gz\n",
      "C:\\Users\\hacker\\Downloads\\medline16n0001.xml.gz\n"
     ]
    },
    {
     "data": {
      "text/plain": [
       "1"
      ]
     },
     "execution_count": 11,
     "metadata": {},
     "output_type": "execute_result"
    }
   ],
   "source": [
    "import subprocess\n",
    "download_dir = r\"C:\\Users\\hacker\\Downloads\\medline16n0001.xml.gz\"\n",
    "url = 'ftp://ftp.nlm.nih.gov/nlmdata/.medleasebaseline/gz/medline16n0001.xml.gz'\n",
    "print (url)\n",
    "print (download_dir)\n",
    "subprocess.call(['wget', url])"
   ]
  },
  {
   "cell_type": "code",
   "execution_count": 70,
   "metadata": {},
   "outputs": [
    {
     "name": "stdout",
     "output_type": "stream",
     "text": [
      "Current working directory C:\\Users\\hacker\\vienna\\projects\\NLP_DL_EntityRecognition\\Code\n",
      "Current working directory C:\\Users\\hacker\\vienna\\projects\\NLP_DL_EntityRecognition\\Code\\medline\\xml_files\n"
     ]
    }
   ],
   "source": [
    "import os\n",
    "os.chdir( r'C:\\Users\\hacker\\vienna\\projects\\NLP_DL_EntityRecognition\\Code' )\n",
    "\n",
    "# Check current working directory.\n",
    "root_dir = os.getcwd()\n",
    "print (\"Current working directory %s\" % root_dir)\n",
    "\n",
    "if not os.path.exists('medline'):\n",
    "    os.mkdir('medline')\n",
    "\n",
    "os.chdir( 'medline' )\n",
    "\n",
    "if not os.path.exists('xml_files'):\n",
    "    os.mkdir('xml_files')\n",
    "\n",
    "os.chdir( 'xml_files' )\n",
    "\n",
    "# Check current working directory.\n",
    "retval = os.getcwd()\n",
    "print (\"Current working directory %s\" % retval)"
   ]
  },
  {
   "cell_type": "code",
   "execution_count": 85,
   "metadata": {},
   "outputs": [
    {
     "name": "stdout",
     "output_type": "stream",
     "text": [
      "Current working directory C:\\Users\\hacker\\vienna\\projects\\NLP_DL_EntityRecognition\\Code\n",
      "Current working directory C:\\Users\\hacker\\vienna\\projects\\NLP_DL_EntityRecognition\\Code\\medline\\xml_files\n",
      "['medline17n0001.xml.gz', 'medline17n0003.xml.gz', 'medline17n0004.xml.gz', 'medline17n0002.xml.gz', 'medline17n0005.xml.gz', 'medline17n0007.xml.gz', 'medline17n0008.xml.gz', 'medline17n0006.xml.gz', 'medline17n0009.xml.gz', 'medline17n0010.xml.gz', 'medline17n0012.xml.gz', 'medline17n0011.xml.gz', 'medline17n0013.xml.gz', 'medline17n0014.xml.gz', 'medline17n0015.xml.gz', 'medline17n0016.xml.gz', 'medline17n0017.xml.gz', 'medline17n0019.xml.gz', 'medline17n0020.xml.gz', 'medline17n0018.xml.gz', 'medline17n0021.xml.gz', 'medline17n0024.xml.gz', 'medline17n0023.xml.gz', 'medline17n0022.xml.gz', 'medline17n0025.xml.gz', 'medline17n0028.xml.gz', 'medline17n0026.xml.gz', 'medline17n0027.xml.gz', 'medline17n0029.xml.gz', 'medline17n0030.xml.gz', 'medline17n0031.xml.gz', 'medline17n0032.xml.gz', 'medline17n0033.xml.gz', 'medline17n0035.xml.gz', 'medline17n0034.xml.gz', 'medline17n0036.xml.gz', 'medline17n0037.xml.gz', 'medline17n0038.xml.gz', 'medline17n0040.xml.gz', 'medline17n0039.xml.gz', 'medline17n0041.xml.gz', 'medline17n0042.xml.gz', 'medline17n0043.xml.gz', 'medline17n0045.xml.gz', 'medline17n0044.xml.gz', 'medline17n0047.xml.gz', 'medline17n0048.xml.gz', 'medline17n0049.xml.gz', 'medline17n0046.xml.gz', 'medline17n0050.xml.gz', 'medline17n0053.xml.gz', 'medline17n0052.xml.gz', 'medline17n0051.xml.gz', 'medline17n0054.xml.gz', 'medline17n0057.xml.gz', 'medline17n0055.xml.gz', 'medline17n0056.xml.gz', 'medline17n0058.xml.gz', 'medline17n0059.xml.gz', 'medline17n0060.xml.gz', 'medline17n0061.xml.gz', 'medline17n0062.xml.gz', 'medline17n0064.xml.gz', 'medline17n0063.xml.gz', 'medline17n0065.xml.gz', 'medline17n0066.xml.gz', 'medline17n0068.xml.gz', 'medline17n0067.xml.gz', 'medline17n0069.xml.gz', 'medline17n0070.xml.gz', 'medline17n0073.xml.gz', 'medline17n0071.xml.gz', 'medline17n0072.xml.gz', 'medline17n0074.xml.gz', 'medline17n0076.xml.gz', 'medline17n0075.xml.gz', 'medline17n0077.xml.gz', 'medline17n0078.xml.gz', 'medline17n0079.xml.gz', 'medline17n0080.xml.gz', 'medline17n0082.xml.gz', 'medline17n0081.xml.gz', 'medline17n0083.xml.gz', 'medline17n0084.xml.gz', 'medline17n0086.xml.gz', 'medline17n0085.xml.gz', 'medline17n0087.xml.gz', 'medline17n0088.xml.gz', 'medline17n0090.xml.gz', 'medline17n0089.xml.gz', 'medline17n0091.xml.gz', 'medline17n0092.xml.gz', 'medline17n0093.xml.gz', 'medline17n0094.xml.gz', 'medline17n0095.xml.gz', 'medline17n0096.xml.gz', 'medline17n0098.xml.gz', 'medline17n0097.xml.gz', 'medline17n0102.xml.gz', 'medline17n0099.xml.gz', 'medline17n0100.xml.gz', 'medline17n0101.xml.gz', 'medline17n0103.xml.gz', 'medline17n0106.xml.gz', 'medline17n0105.xml.gz', 'medline17n0104.xml.gz', 'medline17n0107.xml.gz', 'medline17n0109.xml.gz', 'medline17n0108.xml.gz', 'medline17n0110.xml.gz', 'medline17n0111.xml.gz', 'medline17n0112.xml.gz', 'medline17n0113.xml.gz', 'medline17n0114.xml.gz', 'medline17n0115.xml.gz', 'medline17n0116.xml.gz', 'medline17n0118.xml.gz', 'medline17n0117.xml.gz', 'medline17n0119.xml.gz', 'medline17n0120.xml.gz', 'medline17n0121.xml.gz', 'medline17n0122.xml.gz', 'medline17n0123.xml.gz', 'medline17n0124.xml.gz', 'medline17n0126.xml.gz', 'medline17n0125.xml.gz', 'medline17n0127.xml.gz', 'medline17n0128.xml.gz', 'medline17n0129.xml.gz', 'medline17n0130.xml.gz', 'medline17n0131.xml.gz', 'medline17n0132.xml.gz', 'medline17n0133.xml.gz', 'medline17n0134.xml.gz', 'medline17n0135.xml.gz', 'medline17n0136.xml.gz', 'medline17n0137.xml.gz', 'medline17n0138.xml.gz', 'medline17n0139.xml.gz', 'medline17n0140.xml.gz', 'medline17n0141.xml.gz', 'medline17n0142.xml.gz', 'medline17n0143.xml.gz', 'medline17n0144.xml.gz', 'medline17n0146.xml.gz', 'medline17n0145.xml.gz', 'medline17n0149.xml.gz', 'medline17n0147.xml.gz', 'medline17n0150.xml.gz', 'medline17n0148.xml.gz', 'medline17n0151.xml.gz', 'medline17n0153.xml.gz', 'medline17n0154.xml.gz', 'medline17n0152.xml.gz', 'medline17n0155.xml.gz', 'medline17n0157.xml.gz', 'medline17n0156.xml.gz', 'medline17n0158.xml.gz', 'medline17n0162.xml.gz', 'medline17n0159.xml.gz', 'medline17n0160.xml.gz', 'medline17n0161.xml.gz', 'medline17n0164.xml.gz', 'medline17n0165.xml.gz', 'medline17n0163.xml.gz', 'medline17n0166.xml.gz', 'medline17n0168.xml.gz', 'medline17n0167.xml.gz', 'medline17n0169.xml.gz', 'medline17n0170.xml.gz', 'medline17n0173.xml.gz', 'medline17n0174.xml.gz', 'medline17n0171.xml.gz', 'medline17n0172.xml.gz', 'medline17n0175.xml.gz', 'medline17n0176.xml.gz', 'medline17n0177.xml.gz', 'medline17n0178.xml.gz', 'medline17n0179.xml.gz', 'medline17n0180.xml.gz', 'medline17n0181.xml.gz', 'medline17n0182.xml.gz', 'medline17n0183.xml.gz', 'medline17n0184.xml.gz', 'medline17n0186.xml.gz', 'medline17n0185.xml.gz', 'medline17n0187.xml.gz', 'medline17n0188.xml.gz', 'medline17n0190.xml.gz', 'medline17n0189.xml.gz', 'medline17n0191.xml.gz', 'medline17n0194.xml.gz', 'medline17n0192.xml.gz', 'medline17n0193.xml.gz', 'medline17n0195.xml.gz', 'medline17n0197.xml.gz', 'medline17n0196.xml.gz', 'medline17n0198.xml.gz', 'medline17n0199.xml.gz', 'medline17n0200.xml.gz', 'medline17n0201.xml.gz', 'medline17n0202.xml.gz', 'medline17n0203.xml.gz', 'medline17n0204.xml.gz', 'medline17n0205.xml.gz', 'medline17n0206.xml.gz', 'medline17n0207.xml.gz', 'medline17n0208.xml.gz', 'medline17n0210.xml.gz', 'medline17n0209.xml.gz', 'medline17n0211.xml.gz', 'medline17n0215.xml.gz', 'medline17n0214.xml.gz', 'medline17n0212.xml.gz', 'medline17n0213.xml.gz', 'medline17n0218.xml.gz', 'medline17n0219.xml.gz', 'medline17n0217.xml.gz', 'medline17n0216.xml.gz', 'medline17n0220.xml.gz', 'medline17n0221.xml.gz', 'medline17n0222.xml.gz', 'medline17n0223.xml.gz', 'medline17n0224.xml.gz', 'medline17n0226.xml.gz', 'medline17n0225.xml.gz', 'medline17n0227.xml.gz', 'medline17n0228.xml.gz', 'medline17n0230.xml.gz', 'medline17n0229.xml.gz', 'medline17n0231.xml.gz', 'medline17n0232.xml.gz', 'medline17n0234.xml.gz', 'medline17n0233.xml.gz', 'medline17n0235.xml.gz', 'medline17n0236.xml.gz', 'medline17n0238.xml.gz', 'medline17n0237.xml.gz', 'medline17n0239.xml.gz', 'medline17n0240.xml.gz', 'medline17n0242.xml.gz', 'medline17n0241.xml.gz', 'medline17n0243.xml.gz', 'medline17n0247.xml.gz', 'medline17n0244.xml.gz', 'medline17n0246.xml.gz', 'medline17n0245.xml.gz', 'medline17n0248.xml.gz', 'medline17n0249.xml.gz', 'medline17n0251.xml.gz', 'medline17n0250.xml.gz', 'medline17n0252.xml.gz', 'medline17n0253.xml.gz', 'medline17n0255.xml.gz', 'medline17n0254.xml.gz', 'medline17n0258.xml.gz', 'medline17n0256.xml.gz', 'medline17n0257.xml.gz', 'medline17n0259.xml.gz', 'medline17n0260.xml.gz', 'medline17n0261.xml.gz', 'medline17n0262.xml.gz', 'medline17n0263.xml.gz', 'medline17n0264.xml.gz', 'medline17n0265.xml.gz', 'medline17n0266.xml.gz', 'medline17n0267.xml.gz', 'medline17n0271.xml.gz', 'medline17n0268.xml.gz', 'medline17n0269.xml.gz', 'medline17n0270.xml.gz', 'medline17n0272.xml.gz', 'medline17n0273.xml.gz', 'medline17n0275.xml.gz', 'medline17n0274.xml.gz', 'medline17n0278.xml.gz', 'medline17n0276.xml.gz', 'medline17n0277.xml.gz', 'medline17n0279.xml.gz', 'medline17n0281.xml.gz', 'medline17n0282.xml.gz', 'medline17n0280.xml.gz', 'medline17n0283.xml.gz', 'medline17n0285.xml.gz', 'medline17n0287.xml.gz', 'medline17n0286.xml.gz', 'medline17n0284.xml.gz', 'medline17n0290.xml.gz', 'medline17n0288.xml.gz', 'medline17n0289.xml.gz', 'medline17n0291.xml.gz', 'medline17n0292.xml.gz', 'medline17n0294.xml.gz', 'medline17n0293.xml.gz', 'medline17n0295.xml.gz', 'medline17n0296.xml.gz', 'medline17n0297.xml.gz', 'medline17n0298.xml.gz', 'medline17n0299.xml.gz', 'medline17n0300.xml.gz', 'medline17n0302.xml.gz', 'medline17n0301.xml.gz', 'medline17n0303.xml.gz', 'medline17n0304.xml.gz', 'medline17n0305.xml.gz', 'medline17n0306.xml.gz', 'medline17n0307.xml.gz', 'medline17n0308.xml.gz', 'medline17n0309.xml.gz', 'medline17n0310.xml.gz', 'medline17n0311.xml.gz', 'medline17n0312.xml.gz', 'medline17n0313.xml.gz', 'medline17n0314.xml.gz', 'medline17n0315.xml.gz', 'medline17n0317.xml.gz', 'medline17n0318.xml.gz', 'medline17n0316.xml.gz', 'medline17n0319.xml.gz', 'medline17n0320.xml.gz', 'medline17n0322.xml.gz', 'medline17n0321.xml.gz', 'medline17n0323.xml.gz', 'medline17n0324.xml.gz', 'medline17n0325.xml.gz', 'medline17n0326.xml.gz', 'medline17n0330.xml.gz', 'medline17n0327.xml.gz', 'medline17n0328.xml.gz', 'medline17n0329.xml.gz', 'medline17n0331.xml.gz', 'medline17n0332.xml.gz', 'medline17n0333.xml.gz', 'medline17n0334.xml.gz', 'medline17n0336.xml.gz', 'medline17n0335.xml.gz', 'medline17n0337.xml.gz', 'medline17n0340.xml.gz', 'medline17n0338.xml.gz', 'medline17n0341.xml.gz', 'medline17n0339.xml.gz', 'medline17n0342.xml.gz', 'medline17n0343.xml.gz', 'medline17n0344.xml.gz', 'medline17n0345.xml.gz', 'medline17n0346.xml.gz', 'medline17n0347.xml.gz', 'medline17n0348.xml.gz', 'medline17n0349.xml.gz', 'medline17n0350.xml.gz', 'medline17n0351.xml.gz', 'medline17n0353.xml.gz', 'medline17n0352.xml.gz', 'medline17n0354.xml.gz', 'medline17n0355.xml.gz', 'medline17n0356.xml.gz', 'medline17n0357.xml.gz', 'medline17n0358.xml.gz', 'medline17n0359.xml.gz', 'medline17n0361.xml.gz', 'medline17n0360.xml.gz', 'medline17n0362.xml.gz', 'medline17n0363.xml.gz', 'medline17n0364.xml.gz', 'medline17n0365.xml.gz', 'medline17n0366.xml.gz', 'medline17n0367.xml.gz', 'medline17n0369.xml.gz', 'medline17n0368.xml.gz', 'medline17n0371.xml.gz', 'medline17n0370.xml.gz', 'medline17n0372.xml.gz', 'medline17n0373.xml.gz', 'medline17n0374.xml.gz', 'medline17n0375.xml.gz', 'medline17n0376.xml.gz', 'medline17n0377.xml.gz', 'medline17n0379.xml.gz', 'medline17n0378.xml.gz', 'medline17n0380.xml.gz', 'medline17n0381.xml.gz', 'medline17n0383.xml.gz', 'medline17n0382.xml.gz', 'medline17n0384.xml.gz', 'medline17n0385.xml.gz', 'medline17n0386.xml.gz', 'medline17n0387.xml.gz', 'medline17n0388.xml.gz', 'medline17n0389.xml.gz', 'medline17n0390.xml.gz', 'medline17n0391.xml.gz', 'medline17n0392.xml.gz', 'medline17n0393.xml.gz', 'medline17n0395.xml.gz', 'medline17n0394.xml.gz', 'medline17n0396.xml.gz', 'medline17n0397.xml.gz', 'medline17n0398.xml.gz', 'medline17n0399.xml.gz', 'medline17n0400.xml.gz', 'medline17n0401.xml.gz', 'medline17n0403.xml.gz', 'medline17n0402.xml.gz', 'medline17n0404.xml.gz', 'medline17n0405.xml.gz', 'medline17n0406.xml.gz', 'medline17n0407.xml.gz', 'medline17n0408.xml.gz', 'medline17n0409.xml.gz', 'medline17n0410.xml.gz', 'medline17n0411.xml.gz', 'medline17n0412.xml.gz', 'medline17n0413.xml.gz', 'medline17n0415.xml.gz', 'medline17n0414.xml.gz', 'medline17n0416.xml.gz', 'medline17n0417.xml.gz', 'medline17n0420.xml.gz', 'medline17n0418.xml.gz', 'medline17n0421.xml.gz', 'medline17n0419.xml.gz', 'medline17n0425.xml.gz', 'medline17n0422.xml.gz', 'medline17n0424.xml.gz', 'medline17n0423.xml.gz', 'medline17n0426.xml.gz', 'medline17n0427.xml.gz', 'medline17n0428.xml.gz', 'medline17n0429.xml.gz', 'medline17n0430.xml.gz', 'medline17n0431.xml.gz', 'medline17n0432.xml.gz', 'medline17n0433.xml.gz', 'medline17n0434.xml.gz', 'medline17n0435.xml.gz', 'medline17n0436.xml.gz', 'medline17n0437.xml.gz', 'medline17n0438.xml.gz', 'medline17n0439.xml.gz', 'medline17n0440.xml.gz', 'medline17n0441.xml.gz', 'medline17n0442.xml.gz', 'medline17n0443.xml.gz', 'medline17n0444.xml.gz', 'medline17n0445.xml.gz', 'medline17n0446.xml.gz', 'medline17n0447.xml.gz', 'medline17n0448.xml.gz', 'medline17n0449.xml.gz', 'medline17n0450.xml.gz', 'medline17n0451.xml.gz', 'medline17n0452.xml.gz', 'medline17n0453.xml.gz', 'medline17n0454.xml.gz', 'medline17n0455.xml.gz', 'medline17n0456.xml.gz', 'medline17n0457.xml.gz', 'medline17n0458.xml.gz', 'medline17n0459.xml.gz', 'medline17n0460.xml.gz', 'medline17n0461.xml.gz', 'medline17n0462.xml.gz', 'medline17n0463.xml.gz', 'medline17n0464.xml.gz', 'medline17n0465.xml.gz', 'medline17n0466.xml.gz', 'medline17n0467.xml.gz', 'medline17n0468.xml.gz', 'medline17n0469.xml.gz', 'medline17n0470.xml.gz', 'medline17n0471.xml.gz', 'medline17n0472.xml.gz', 'medline17n0473.xml.gz', 'medline17n0474.xml.gz', 'medline17n0475.xml.gz', 'medline17n0476.xml.gz', 'medline17n0477.xml.gz', 'medline17n0478.xml.gz', 'medline17n0479.xml.gz', 'medline17n0480.xml.gz', 'medline17n0481.xml.gz', 'medline17n0482.xml.gz', 'medline17n0483.xml.gz', 'medline17n0484.xml.gz', 'medline17n0485.xml.gz', 'medline17n0486.xml.gz', 'medline17n0487.xml.gz', 'medline17n0488.xml.gz', 'medline17n0489.xml.gz', 'medline17n0490.xml.gz', 'medline17n0491.xml.gz', 'medline17n0492.xml.gz', 'medline17n0493.xml.gz', 'medline17n0494.xml.gz', 'medline17n0495.xml.gz', 'medline17n0496.xml.gz', 'medline17n0497.xml.gz', 'medline17n0498.xml.gz', 'medline17n0500.xml.gz', 'medline17n0499.xml.gz', 'medline17n0501.xml.gz', 'medline17n0502.xml.gz', 'medline17n0503.xml.gz', 'medline17n0504.xml.gz', 'medline17n0505.xml.gz', 'medline17n0507.xml.gz', 'medline17n0506.xml.gz', 'medline17n0508.xml.gz', 'medline17n0509.xml.gz', 'medline17n0510.xml.gz', 'medline17n0511.xml.gz', 'medline17n0512.xml.gz', 'medline17n0513.xml.gz', 'medline17n0514.xml.gz', 'medline17n0515.xml.gz', 'medline17n0516.xml.gz', 'medline17n0517.xml.gz', 'medline17n0518.xml.gz', 'medline17n0519.xml.gz', 'medline17n0520.xml.gz', 'medline17n0521.xml.gz', 'medline17n0522.xml.gz', 'medline17n0523.xml.gz', 'medline17n0524.xml.gz', 'medline17n0525.xml.gz', 'medline17n0526.xml.gz', 'medline17n0527.xml.gz', 'medline17n0528.xml.gz', 'medline17n0529.xml.gz', 'medline17n0530.xml.gz', 'medline17n0532.xml.gz', 'medline17n0531.xml.gz', 'medline17n0533.xml.gz', 'medline17n0534.xml.gz', 'medline17n0536.xml.gz', 'medline17n0535.xml.gz', 'medline17n0537.xml.gz', 'medline17n0538.xml.gz', 'medline17n0539.xml.gz', 'medline17n0540.xml.gz', 'medline17n0541.xml.gz', 'medline17n0543.xml.gz', 'medline17n0542.xml.gz', 'medline17n0544.xml.gz', 'medline17n0545.xml.gz', 'medline17n0546.xml.gz', 'medline17n0547.xml.gz', 'medline17n0548.xml.gz', 'medline17n0549.xml.gz', 'medline17n0551.xml.gz', 'medline17n0550.xml.gz', 'medline17n0552.xml.gz', 'medline17n0553.xml.gz', 'medline17n0554.xml.gz', 'medline17n0555.xml.gz', 'medline17n0556.xml.gz', 'medline17n0557.xml.gz', 'medline17n0558.xml.gz', 'medline17n0560.xml.gz', 'medline17n0559.xml.gz', 'medline17n0561.xml.gz', 'medline17n0562.xml.gz', 'medline17n0564.xml.gz', 'medline17n0565.xml.gz', 'medline17n0563.xml.gz', 'medline17n0567.xml.gz', 'medline17n0566.xml.gz', 'medline17n0568.xml.gz', 'medline17n0569.xml.gz', 'medline17n0571.xml.gz', 'medline17n0570.xml.gz', 'medline17n0572.xml.gz', 'medline17n0573.xml.gz', 'medline17n0575.xml.gz', 'medline17n0574.xml.gz', 'medline17n0576.xml.gz', 'medline17n0577.xml.gz', 'medline17n0578.xml.gz', 'medline17n0579.xml.gz', 'medline17n0583.xml.gz', 'medline17n0580.xml.gz', 'medline17n0582.xml.gz', 'medline17n0581.xml.gz', 'medline17n0584.xml.gz', 'medline17n0587.xml.gz', 'medline17n0586.xml.gz', 'medline17n0585.xml.gz', 'medline17n0588.xml.gz', 'medline17n0589.xml.gz', 'medline17n0590.xml.gz', 'medline17n0591.xml.gz', 'medline17n0592.xml.gz', 'medline17n0593.xml.gz', 'medline17n0595.xml.gz', 'medline17n0594.xml.gz', 'medline17n0596.xml.gz', 'medline17n0597.xml.gz', 'medline17n0598.xml.gz', 'medline17n0599.xml.gz', 'medline17n0600.xml.gz', 'medline17n0601.xml.gz', 'medline17n0602.xml.gz', 'medline17n0603.xml.gz', 'medline17n0604.xml.gz', 'medline17n0607.xml.gz', 'medline17n0606.xml.gz', 'medline17n0605.xml.gz', 'medline17n0608.xml.gz', 'medline17n0611.xml.gz', 'medline17n0609.xml.gz', 'medline17n0610.xml.gz', 'medline17n0612.xml.gz', 'medline17n0613.xml.gz', 'medline17n0614.xml.gz', 'medline17n0615.xml.gz', 'medline17n0616.xml.gz', 'medline17n0617.xml.gz', 'medline17n0618.xml.gz', 'medline17n0619.xml.gz', 'medline17n0620.xml.gz', 'medline17n0621.xml.gz', 'medline17n0622.xml.gz', 'medline17n0623.xml.gz', 'medline17n0624.xml.gz', 'medline17n0625.xml.gz', 'medline17n0626.xml.gz', 'medline17n0627.xml.gz', 'medline17n0628.xml.gz', 'medline17n0629.xml.gz', 'medline17n0630.xml.gz', 'medline17n0631.xml.gz', 'medline17n0632.xml.gz', 'medline17n0633.xml.gz', 'medline17n0634.xml.gz', 'medline17n0635.xml.gz', 'medline17n0636.xml.gz', 'medline17n0637.xml.gz', 'medline17n0638.xml.gz', 'medline17n0639.xml.gz', 'medline17n0640.xml.gz', 'medline17n0641.xml.gz', 'medline17n0642.xml.gz', 'medline17n0643.xml.gz', 'medline17n0645.xml.gz', 'medline17n0644.xml.gz', 'medline17n0646.xml.gz', 'medline17n0647.xml.gz', 'medline17n0648.xml.gz', 'medline17n0649.xml.gz', 'medline17n0650.xml.gz', 'medline17n0653.xml.gz', 'medline17n0652.xml.gz', 'medline17n0651.xml.gz', 'medline17n0654.xml.gz', 'medline17n0655.xml.gz', 'medline17n0656.xml.gz', 'medline17n0657.xml.gz', 'medline17n0658.xml.gz', 'medline17n0660.xml.gz', 'medline17n0659.xml.gz', 'medline17n0661.xml.gz', 'medline17n0662.xml.gz', 'medline17n0663.xml.gz', 'medline17n0664.xml.gz', 'medline17n0665.xml.gz', 'medline17n0666.xml.gz', 'medline17n0670.xml.gz', 'medline17n0669.xml.gz', 'medline17n0667.xml.gz', 'medline17n0668.xml.gz', 'medline17n0671.xml.gz', 'medline17n0672.xml.gz', 'medline17n0674.xml.gz', 'medline17n0673.xml.gz', 'medline17n0676.xml.gz', 'medline17n0677.xml.gz', 'medline17n0675.xml.gz', 'medline17n0678.xml.gz', 'medline17n0679.xml.gz', 'medline17n0680.xml.gz', 'medline17n0681.xml.gz', 'medline17n0682.xml.gz', 'medline17n0683.xml.gz', 'medline17n0684.xml.gz', 'medline17n0685.xml.gz', 'medline17n0686.xml.gz', 'medline17n0687.xml.gz', 'medline17n0688.xml.gz', 'medline17n0689.xml.gz', 'medline17n0690.xml.gz', 'medline17n0691.xml.gz', 'medline17n0692.xml.gz', 'medline17n0693.xml.gz', 'medline17n0694.xml.gz', 'medline17n0695.xml.gz', 'medline17n0697.xml.gz', 'medline17n0696.xml.gz', 'medline17n0698.xml.gz', 'medline17n0699.xml.gz', 'medline17n0700.xml.gz', 'medline17n0701.xml.gz', 'medline17n0702.xml.gz', 'medline17n0703.xml.gz', 'medline17n0704.xml.gz', 'medline17n0706.xml.gz', 'medline17n0705.xml.gz', 'medline17n0707.xml.gz', 'medline17n0708.xml.gz', 'medline17n0709.xml.gz', 'medline17n0710.xml.gz', 'medline17n0711.xml.gz', 'medline17n0713.xml.gz', 'medline17n0712.xml.gz', 'medline17n0714.xml.gz', 'medline17n0715.xml.gz', 'medline17n0716.xml.gz', 'medline17n0718.xml.gz', 'medline17n0717.xml.gz', 'medline17n0719.xml.gz', 'medline17n0720.xml.gz', 'medline17n0721.xml.gz', 'medline17n0722.xml.gz', 'medline17n0724.xml.gz', 'medline17n0725.xml.gz', 'medline17n0723.xml.gz', 'medline17n0726.xml.gz', 'medline17n0728.xml.gz', 'medline17n0727.xml.gz', 'medline17n0729.xml.gz', 'medline17n0730.xml.gz', 'medline17n0731.xml.gz', 'medline17n0732.xml.gz', 'medline17n0735.xml.gz', 'medline17n0733.xml.gz', 'medline17n0734.xml.gz', 'medline17n0736.xml.gz', 'medline17n0738.xml.gz', 'medline17n0739.xml.gz', 'medline17n0737.xml.gz', 'medline17n0741.xml.gz', 'medline17n0740.xml.gz', 'medline17n0742.xml.gz', 'medline17n0744.xml.gz', 'medline17n0743.xml.gz', 'medline17n0745.xml.gz', 'medline17n0747.xml.gz', 'medline17n0746.xml.gz', 'medline17n0748.xml.gz', 'medline17n0750.xml.gz', 'medline17n0749.xml.gz', 'medline17n0751.xml.gz', 'medline17n0752.xml.gz', 'medline17n0754.xml.gz', 'medline17n0753.xml.gz', 'medline17n0757.xml.gz', 'medline17n0755.xml.gz', 'medline17n0756.xml.gz', 'medline17n0758.xml.gz', 'medline17n0760.xml.gz', 'medline17n0759.xml.gz', 'medline17n0761.xml.gz', 'medline17n0763.xml.gz', 'medline17n0762.xml.gz', 'medline17n0764.xml.gz', 'medline17n0766.xml.gz', 'medline17n0765.xml.gz', 'medline17n0767.xml.gz', 'medline17n0769.xml.gz', 'medline17n0770.xml.gz', 'medline17n0768.xml.gz', 'medline17n0772.xml.gz', 'medline17n0773.xml.gz', 'medline17n0771.xml.gz', 'medline17n0775.xml.gz', 'medline17n0774.xml.gz', 'medline17n0776.xml.gz', 'medline17n0778.xml.gz', 'medline17n0777.xml.gz', 'medline17n0779.xml.gz', 'medline17n0782.xml.gz', 'medline17n0781.xml.gz', 'medline17n0780.xml.gz', 'medline17n0785.xml.gz', 'medline17n0783.xml.gz', 'medline17n0784.xml.gz', 'medline17n0786.xml.gz', 'medline17n0788.xml.gz', 'medline17n0787.xml.gz', 'medline17n0789.xml.gz', 'medline17n0791.xml.gz', 'medline17n0790.xml.gz', 'medline17n0794.xml.gz', 'medline17n0792.xml.gz', 'medline17n0793.xml.gz', 'medline17n0795.xml.gz', 'medline17n0797.xml.gz', 'medline17n0796.xml.gz', 'medline17n0798.xml.gz', 'medline17n0800.xml.gz', 'medline17n0801.xml.gz', 'medline17n0799.xml.gz', 'medline17n0803.xml.gz', 'medline17n0802.xml.gz', 'medline17n0804.xml.gz', 'medline17n0806.xml.gz', 'medline17n0807.xml.gz', 'medline17n0805.xml.gz', 'medline17n0809.xml.gz', 'medline17n0808.xml.gz', 'medline17n0810.xml.gz', 'medline17n0813.xml.gz', 'medline17n0811.xml.gz', 'medline17n0812.xml.gz', 'medline17n0816.xml.gz', 'medline17n0814.xml.gz', 'medline17n0815.xml.gz', 'medline17n0819.xml.gz', 'medline17n0817.xml.gz', 'medline17n0818.xml.gz', 'medline17n0820.xml.gz', 'medline17n0822.xml.gz', 'medline17n0823.xml.gz', 'medline17n0821.xml.gz', 'medline17n0825.xml.gz', 'medline17n0824.xml.gz', 'medline17n0826.xml.gz', 'medline17n0828.xml.gz', 'medline17n0829.xml.gz', 'medline17n0827.xml.gz', 'medline17n0831.xml.gz', 'medline17n0832.xml.gz', 'medline17n0830.xml.gz', 'medline17n0835.xml.gz', 'medline17n0833.xml.gz', 'medline17n0834.xml.gz', 'medline17n0838.xml.gz', 'medline17n0836.xml.gz', 'medline17n0837.xml.gz', 'medline17n0841.xml.gz', 'medline17n0839.xml.gz', 'medline17n0840.xml.gz', 'medline17n0844.xml.gz', 'medline17n0842.xml.gz', 'medline17n0845.xml.gz', 'medline17n0843.xml.gz', 'medline17n0847.xml.gz', 'medline17n0848.xml.gz', 'medline17n0846.xml.gz', 'medline17n0851.xml.gz', 'medline17n0850.xml.gz', 'medline17n0849.xml.gz', 'medline17n0854.xml.gz', 'medline17n0852.xml.gz', 'medline17n0853.xml.gz', 'medline17n0857.xml.gz', 'medline17n0855.xml.gz', 'medline17n0856.xml.gz', 'medline17n0860.xml.gz', 'medline17n0858.xml.gz', 'medline17n0859.xml.gz', 'medline17n0861.xml.gz', 'medline17n0863.xml.gz', 'medline17n0864.xml.gz', 'medline17n0866.xml.gz', 'medline17n0862.xml.gz', 'medline17n0867.xml.gz', 'medline17n0865.xml.gz', 'medline17n0869.xml.gz', 'medline17n0870.xml.gz', 'medline17n0868.xml.gz', 'medline17n0872.xml.gz', 'medline17n0871.xml.gz', 'medline17n0873.xml.gz', 'medline17n0875.xml.gz', 'medline17n0874.xml.gz', 'medline17n0876.xml.gz', 'medline17n0878.xml.gz', 'medline17n0879.xml.gz', 'medline17n0877.xml.gz', 'medline17n0881.xml.gz', 'medline17n0882.xml.gz', 'medline17n0880.xml.gz', 'medline17n0885.xml.gz', 'medline17n0884.xml.gz', 'medline17n0883.xml.gz', 'medline17n0888.xml.gz', 'medline17n0886.xml.gz', 'medline17n0887.xml.gz', 'medline17n0889.xml.gz', 'medline17n0892.xml.gz', 'medline17n0891.xml.gz', 'medline17n0890.xml.gz']\n",
      "downloading medline17n0001.xml.gz\n"
     ]
    },
    {
     "name": "stdout",
     "output_type": "stream",
     "text": [
      "downloading medline17n0003.xml.gz\n",
      "downloading medline17n0004.xml.gz\n",
      "downloading medline17n0002.xml.gz\n",
      "downloading medline17n0005.xml.gz\n",
      "downloading medline17n0007.xml.gz\n",
      "downloading medline17n0008.xml.gz\n",
      "downloading medline17n0006.xml.gz\n",
      "downloading medline17n0009.xml.gz\n",
      "downloading medline17n0010.xml.gz\n"
     ]
    }
   ],
   "source": [
    "import os\n",
    "from ftplib import FTP\n",
    "os.chdir( r'C:\\Users\\hacker\\vienna\\projects\\NLP_DL_EntityRecognition\\Code' )\n",
    "\n",
    "# Check current working directory.\n",
    "home_dir = os.getcwd()\n",
    "print (\"Current working directory %s\" % home_dir)\n",
    "\n",
    "xml_medline_dir = os.path.join(home_dir, 'medline', 'xml_files')\n",
    "parquet_medline_dir = os.path.join(home_dir, 'medline', 'parquet_files')\n",
    "\n",
    "if not os.path.exists(xml_medline_dir):\n",
    "    os.mkdir(xml_medline_dir)\n",
    "\n",
    "os.chdir(xml_medline_dir)\n",
    "print (\"Current working directory %s\" % os.getcwd())\n",
    "batch_size =10\n",
    "i =0\n",
    "# connect to host, default port\n",
    "with FTP('ftp.ncbi.nlm.nih.gov', 'anonymous', '') as ftp:\n",
    "    # change into \"debian\" directory\n",
    "    ftp.cwd('pubmed/baseline')\n",
    "    #ftp.retrlines('LIST')  \n",
    "\n",
    "    #print (len(ftp.nlst()))\n",
    "\n",
    "    file_collection = [ x for x in ftp.nlst() if x.endswith('gz') ]\n",
    "\n",
    "    #file_collection = filter(lambda x: x.endswith('gzip'), ftp.nlst())\n",
    "    print(file_collection)\n",
    "    \n",
    "    for filename in file_collection:\n",
    "        with open(filename, 'wb') as f:\n",
    "            print('downloading {}'.format(filename))\n",
    "            ftp.retrbinary('RETR ' + filename, f.write)\n",
    "        i = i+1\n",
    "        if i== batch_size:\n",
    "            break\n",
    "            \n",
    "    ftp.quit()\n",
    "    \n",
    "# if not os.path.exists(parquet_medline_dir):\n",
    "#     os.mkdir(parquet_medline_dir)\n",
    "\n",
    "# os.chdir(parquet_medline_dir)"
   ]
  }
 ],
 "metadata": {
  "kernelspec": {
   "display_name": "Python 3",
   "language": "python",
   "name": "python3"
  },
  "language_info": {
   "codemirror_mode": {
    "name": "ipython",
    "version": 3
   },
   "file_extension": ".py",
   "mimetype": "text/x-python",
   "name": "python",
   "nbconvert_exporter": "python",
   "pygments_lexer": "ipython3",
   "version": "3.5.2"
  }
 },
 "nbformat": 4,
 "nbformat_minor": 2
}
