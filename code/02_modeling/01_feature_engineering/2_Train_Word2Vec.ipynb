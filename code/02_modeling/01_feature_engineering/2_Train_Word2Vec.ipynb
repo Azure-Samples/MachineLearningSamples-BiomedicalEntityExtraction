{
 "cells": [
  {
   "cell_type": "markdown",
   "metadata": {},
   "source": [
    "## Train, Evaluate and Visualize the Word Embeddings\n",
    "In this Notebook we detail the process of how to train a word2vec model on the Medline Abstracts and obtaining the word embeddings for the biomedical terms. This is the first step towards building an Entity Extractor. We are using the Spark's <a href = \"https://spark.apache.org/mllib/\">MLLib</a> package to train the word embedding model. We also show how you can test the quality of the embeddings by an intrinsic evaluation task along with visualization.\n",
    "<br>\n",
    "The Word Embeddings obtained from spark are stored in parquet files with gzip compression. In the next notebook we show how you can easily extract the word embeddings form these parquet files and visualize them in any tool of your choice.\n",
    "\n",
    "<br> This notebook is divided into several sections, details of which are presented below.\n",
    "<ol>\n",
    "<li>Load the data into the dataframe and preprocess it.</li>\n",
    "<li>Tokenize the data into words and train Word2Vec Model</li>\n",
    "<li>Evaluate the Quality of the Word Embeddings by comparing the Spearman Correlation on a Human Annoted Dataset</li>\n",
    "<li>Use PCA to reduce the dimension of the Embeddings to 2 for Visualization</li>\n",
    "<li>Use t-SNE incombination with PCA to improve the Quality of the Visualizations </li>\n",
    "</ol>"
   ]
  },
  {
   "cell_type": "markdown",
   "metadata": {},
   "source": [
    "### Step 1"
   ]
  },
  {
   "cell_type": "code",
   "execution_count": 1,
   "metadata": {},
   "outputs": [
    {
     "name": "stdout",
     "output_type": "stream",
     "text": [
      "Starting Spark application\n"
     ]
    },
    {
     "data": {
      "text/html": [
       "<table>\n",
       "<tr><th>ID</th><th>YARN Application ID</th><th>Kind</th><th>State</th><th>Spark UI</th><th>Driver log</th><th>Current session?</th></tr><tr><td>4</td><td>application_1500401104949_0008</td><td>pyspark</td><td>idle</td><td><a target=\"_blank\" href=\"http://hn1-debraj.yuuppcszo2lujoxgonzgl352ph.dx.internal.cloudapp.net:8088/proxy/application_1500401104949_0008/\">Link</a></td><td><a target=\"_blank\" href=\"http://10.0.0.7:30060/node/containerlogs/container_1500401104949_0008_01_000001/livy\">Link</a></td><td>✔</td></tr></table>"
      ],
      "text/plain": [
       "<IPython.core.display.HTML object>"
      ]
     },
     "metadata": {},
     "output_type": "display_data"
    },
    {
     "name": "stdout",
     "output_type": "stream",
     "text": [
      "SparkSession available as 'spark'.\n"
     ]
    }
   ],
   "source": [
    "from pyspark import SparkConf\n",
    "from pyspark import SparkContext\n",
    "from pyspark.sql import SQLContext\n",
    "from pyspark.sql.functions import UserDefinedFunction\n",
    "from pyspark.mllib.feature import Word2Vec\n",
    "from pyspark.ml.feature import Tokenizer, RegexTokenizer, StopWordsRemover\n",
    "from pyspark.sql.types import *\n",
    "import matplotlib.pyplot as plt\n",
    "import numpy as np\n",
    "import datetime\n",
    "\n",
    "sqlContext = SQLContext(sc)"
   ]
  },
  {
   "cell_type": "markdown",
   "metadata": {},
   "source": [
    "<b> Setup the paths where the TSV files are located <b>"
   ]
  },
  {
   "cell_type": "code",
   "execution_count": 4,
   "metadata": {},
   "outputs": [],
   "source": [
    "data_dir = \"wasb:///medline_baseline/\"\n",
    "pubmed_tsvs = \"wasb:///medline_baseline/1\" \n",
    "pubmedTitAbs = \"wasb:///medline_baseline/Articles/Title_Abstracts/\""
   ]
  },
  {
   "cell_type": "markdown",
   "metadata": {},
   "source": [
    "### Step 2"
   ]
  },
  {
   "cell_type": "markdown",
   "metadata": {},
   "source": [
    "### Read in Pubmed Abstracts from csv\n",
    "<br> This cell iterates over all the parsed pubmed files and combines them into a single dataframe. <br>It then writes this new dataframe to a parquet file for faster access in Subsequent runs.<br><br>\n",
    "Note: <ol><li>Ideally you should run the below cell only <b>once</b> and use the parquet file for subsequent runs.</li>\n",
    "<li> This cell saves a parquet files after reading every 100 files. If this block fails for some reason, you can resume from the latest file."
   ]
  },
  {
   "cell_type": "code",
   "execution_count": 5,
   "metadata": {},
   "outputs": [
    {
     "name": "stdout",
     "output_type": "stream",
     "text": [
      "Skipped753\n",
      "Skipped755\n",
      "Skipped761\n",
      "Skipped766\n",
      "Skipped767\n",
      "Skipped778\n",
      "Skipped779\n",
      "Skipped780\n",
      "Skipped786\n",
      "Skipped795\n",
      "Skipped798\n",
      "Skipped799\n",
      "root\n",
      " |-- abstract: string (nullable = true)\n",
      " |-- affiliation: string (nullable = true)\n",
      " |-- author: string (nullable = true)\n",
      " |-- country: string (nullable = true)\n",
      " |-- delete: boolean (nullable = true)\n",
      " |-- file_name: string (nullable = true)\n",
      " |-- issn_linking: string (nullable = true)\n",
      " |-- journal: string (nullable = true)\n",
      " |-- keywords: string (nullable = true)\n",
      " |-- medline_ta: string (nullable = true)\n",
      " |-- mesh_terms: string (nullable = true)\n",
      " |-- nlm_unique_id: string (nullable = true)\n",
      " |-- other_id: string (nullable = true)\n",
      " |-- pmc: string (nullable = true)\n",
      " |-- pmid: integer (nullable = true)\n",
      " |-- pubdate: string (nullable = true)\n",
      " |-- title: string (nullable = true)\n",
      "\n",
      "23998617\n",
      "Time taken to execute above cell: 44.07 mins"
     ]
    }
   ],
   "source": [
    "timestart = datetime.datetime.now()\n",
    "pubmedAbstracts = spark.read.csv(path=pubmed_tsvs, header=True, inferSchema=True, sep = \"\\t\")\n",
    "\n",
    "for i in range(2, 813):\n",
    "    try:\n",
    "        pubmed_tsvs_1 = data_dir + str(i)\n",
    "        pubmedAbstracts_1 = spark.read.csv(path=pubmed_tsvs_1, header=True, inferSchema=True, sep = \"\\t\")\n",
    "        pubmedAbstracts = pubmedAbstracts.union(pubmedAbstracts_1)\n",
    "        if i % 100 == 0:\n",
    "            pubmedAbstracts.repartition(300).write.mode(\"overwrite\").parquet(pubmedTitAbs + str(i))\n",
    "            pubmedAbstracts_new = spark.read.parquet(pubmedTitAbs + str(i))\n",
    "            pubmedAbstracts = pubmedAbstracts_new \n",
    "    except:\n",
    "        print(\"Skipped\"+str(i))\n",
    "\n",
    "pubmedAbstracts.printSchema()\n",
    "print(pubmedAbstracts.count())\n",
    "\n",
    "pubmedAbstracts.select(\"title\",\"abstract\").repartition(300).write.mode(\"overwrite\").parquet(pubmedTitAbs + \"full\")\n",
    "\n",
    "# PRINT HOW MUCH TIME IT TOOK TO RUN THE CELL\n",
    "timeend = datetime.datetime.now()\n",
    "timedelta = round((timeend-timestart).total_seconds() / 60, 2)\n",
    "print (\"Time taken to execute above cell: \" + str(timedelta) + \" mins\");"
   ]
  },
  {
   "cell_type": "code",
   "execution_count": 6,
   "metadata": {},
   "outputs": [
    {
     "name": "stdout",
     "output_type": "stream",
     "text": [
      "(14582320, 23998617)\n",
      "Time taken to execute above cell: 1.08 mins"
     ]
    }
   ],
   "source": [
    "timestart = datetime.datetime.now()\n",
    "\n",
    "## Read the data from Parquet File\n",
    "pubmedTitAbsDF = spark.read.parquet(\"wasb:///medline_baseline/Articles/Title_Abstracts/full\")\n",
    "\n",
    "## Drop the abstracts and titles that donot have any content\n",
    "pubmedTitAbsDF1 = pubmedTitAbsDF.select(\"abstract\", \"title\").na.drop()\n",
    "\n",
    "print(pubmedTitAbsDF1.count(), pubmedTitAbsDF.count())\n",
    "\n",
    "# PRINT HOW MUCH TIME IT TOOK TO RUN THE CELL\n",
    "timeend = datetime.datetime.now()\n",
    "timedelta = round((timeend-timestart).total_seconds() / 60, 2)\n",
    "print (\"Time taken to execute above cell: \" + str(timedelta) + \" mins\");"
   ]
  },
  {
   "cell_type": "code",
   "execution_count": 7,
   "metadata": {
    "collapsed": true
   },
   "outputs": [],
   "source": [
    "pubmedTitAbsDF2 = pubmedTitAbsDF1"
   ]
  },
  {
   "cell_type": "markdown",
   "metadata": {},
   "source": [
    "### Step 3 (Optional)"
   ]
  },
  {
   "cell_type": "markdown",
   "metadata": {},
   "source": [
    "### Filtering of Abstracts\n",
    "<br> This step is totally optional. It filters out abstracts that do not contain any word that you care about. You can specify a vocabulary for words you would like to see the embeddings for in the below cell and the subsequent cell will filter the abstracts based on your vocabulary."
   ]
  },
  {
   "cell_type": "markdown",
   "metadata": {},
   "source": [
    "<b> Load dictionary for Drugs and Diseases for filtering</b>"
   ]
  },
  {
   "cell_type": "code",
   "execution_count": 108,
   "metadata": {},
   "outputs": [
    {
     "name": "stdout",
     "output_type": "stream",
     "text": [
      "root\n",
      " |-- words: string (nullable = true)\n",
      "\n",
      "+--------+---------------+-----------+\n",
      "|database|      tableName|isTemporary|\n",
      "+--------+---------------+-----------+\n",
      "| default|hivesampletable|      false|\n",
      "|        |     dict_words|       true|\n",
      "|        |      test_dict|       true|\n",
      "|        |       word2vec|       true|\n",
      "+--------+---------------+-----------+"
     ]
    }
   ],
   "source": [
    "##Uncomment if you require filtering\n",
    "'''\n",
    "vocab = \"wasb:///HdiSamples/HdiSamples/Pubmed/words_rel.txt\"\n",
    "vocab_df = spark.read.csv(path = words_rel, header=True, inferSchema=True, sep = \"\\t\")\n",
    "vocab_df.printSchema()\n",
    "\n",
    "# REGISTER words_rel_df DF IN SQL-CONTEXT\n",
    "vocab_df.createOrReplaceTempView(\"dict_words\")\n",
    "spark.sql(\"show tables\").show()\n",
    "'''"
   ]
  },
  {
   "cell_type": "markdown",
   "metadata": {},
   "source": [
    "<b> Filter the Abstracts based on the dictionary loaded above</b>\n",
    "<br> This will help to filter out abstracts that donot contain words that you care about\n",
    "<br> Its an optional preprocessing step"
   ]
  },
  {
   "cell_type": "code",
   "execution_count": 109,
   "metadata": {},
   "outputs": [
    {
     "name": "stdout",
     "output_type": "stream",
     "text": [
      "root\n",
      " |-- abstract: string (nullable = true)\n",
      " |-- title: string (nullable = true)"
     ]
    }
   ],
   "source": [
    "##Uncomment if you require filtering\n",
    "'''from pyspark.sql.functions import regexp_replace, trim, col, lower, udf\n",
    "from pyspark.sql.types import *\n",
    "timestart = datetime.datetime.now()\n",
    "words = []\n",
    "for row in vocab_df.collect():\n",
    "    words.append(row['words'].lower())\n",
    "\n",
    "pubmedTitAbsDF1.printSchema()\n",
    "\n",
    "def intersect(row):\n",
    "    # convert each word in lowercase\n",
    "    if row is None:\n",
    "        return False\n",
    "    row = [x.lower() for x in row.split()]\n",
    "    return True if set(row).intersection(set(words)) else False\n",
    "\n",
    "filterUDF = udf(intersect, BooleanType())\n",
    "\n",
    "pubmedTitAbsDF2 = pubmedTitAbsDF1.where(filterUDF(pubmedTitAbsDF1.abstract))\n",
    "\n",
    "a = pubmedTitAbsDF1.count()\n",
    "b = pubmedTitAbsDF2.count()\n",
    "print(a, b, a-b)\n",
    "\n",
    "pubmedTitAbsDF2.repartition(200).write.mode(\"overwrite\").parquet(filter_file)\n",
    "\n",
    "filter_file = \"wasb:///HdiSamples/HdiSamples/Pubmed/filtered_df\"\n",
    "pubmedTitAbsDF2 = spark.read.parquet(filter_file)\n",
    "\n",
    "##See the Schema of the DF\n",
    "pubmedTitAbsDF2.printSchema()\n",
    "\n",
    "# PRINT HOW MUCH TIME IT TOOK TO RUN THE CELL\n",
    "timeend = datetime.datetime.now()\n",
    "timedelta = round((timeend-timestart).total_seconds() / 60, 2)\n",
    "print (\"Time taken to execute above cell: \" + str(timedelta) + \" mins\");\n",
    "'''"
   ]
  },
  {
   "cell_type": "code",
   "execution_count": 8,
   "metadata": {},
   "outputs": [
    {
     "name": "stdout",
     "output_type": "stream",
     "text": [
      "14582320"
     ]
    }
   ],
   "source": [
    "pubmedTitAbsDF2.count()"
   ]
  },
  {
   "cell_type": "markdown",
   "metadata": {},
   "source": [
    "### Step 4"
   ]
  },
  {
   "cell_type": "markdown",
   "metadata": {},
   "source": [
    "<b> Preprocess the Abstracts </b><br>\n",
    "We do some basic pre-processing like converting words to lowercase and removing separators other than - and _. <br>\n",
    "We then split the words into tokens. "
   ]
  },
  {
   "cell_type": "code",
   "execution_count": 9,
   "metadata": {},
   "outputs": [
    {
     "name": "stdout",
     "output_type": "stream",
     "text": [
      "14582320\n",
      "Row(abstract=u'The effect of a single administration of d-amphetamine (0.32 mg/kg, s.c.) upon latent inhibition (LI) in a one-session pre-exposure and conditioning procedure was investigated in rats in a conditioned emotional response paradigm. It was found that amphetamine attenuated LI. The effects could not be attributed to differences in unconditioned suppression nor to differences in response rates between the experimental groups. These results support the observations of Dunn and suggest that the disruption of LI may not depend upon a complex interaction between changes in neuronal processes consequent upon repetitive amphetamine administration and the schedule with which the drug is administered during the experimental procedure.', title=u'A single administration of d-amphetamine prior to stimulus pre-exposure and conditioning attenuates latent inhibition.', abstractNew=u'the effect of a single administration of d-amphetamine 032 mgkg sc upon latent inhibition li in a one-session pre-exposure and conditioning procedure was investigated in rats in a conditioned emotional response paradigm it was found that amphetamine attenuated li the effects could not be attributed to differences in unconditioned suppression nor to differences in response rates between the experimental groups these results support the observations of dunn and suggest that the disruption of li may not depend upon a complex interaction between changes in neuronal processes consequent upon repetitive amphetamine administration and the schedule with which the drug is administered during the experimental procedure', words=[u'the', u'effect', u'of', u'a', u'single', u'administration', u'of', u'd-amphetamine', u'032', u'mgkg', u'sc', u'upon', u'latent', u'inhibition', u'li', u'in', u'a', u'one-session', u'pre-exposure', u'and', u'conditioning', u'procedure', u'was', u'investigated', u'in', u'rats', u'in', u'a', u'conditioned', u'emotional', u'response', u'paradigm', u'it', u'was', u'found', u'that', u'amphetamine', u'attenuated', u'li', u'the', u'effects', u'could', u'not', u'be', u'attributed', u'to', u'differences', u'in', u'unconditioned', u'suppression', u'nor', u'to', u'differences', u'in', u'response', u'rates', u'between', u'the', u'experimental', u'groups', u'these', u'results', u'support', u'the', u'observations', u'of', u'dunn', u'and', u'suggest', u'that', u'the', u'disruption', u'of', u'li', u'may', u'not', u'depend', u'upon', u'a', u'complex', u'interaction', u'between', u'changes', u'in', u'neuronal', u'processes', u'consequent', u'upon', u'repetitive', u'amphetamine', u'administration', u'and', u'the', u'schedule', u'with', u'which', u'the', u'drug', u'is', u'administered', u'during', u'the', u'experimental', u'procedure'])\n",
      "root\n",
      " |-- abstract: string (nullable = true)\n",
      " |-- title: string (nullable = true)\n",
      " |-- abstractNew: string (nullable = true)\n",
      " |-- words: array (nullable = true)\n",
      " |    |-- element: string (containsNull = true)\n",
      "\n",
      "None\n",
      "Time taken to execute above cell: 1.04 mins"
     ]
    }
   ],
   "source": [
    "from pyspark.sql.functions import regexp_replace, trim, col, lower, udf\n",
    "from pyspark.ml.feature import Tokenizer, RegexTokenizer\n",
    "from pyspark.ml.feature import StopWordsRemover\n",
    "\n",
    "timestart = datetime.datetime.now()\n",
    "\n",
    "tokenizer = Tokenizer(inputCol=\"abstractNew\", outputCol=\"words\")\n",
    "remover = StopWordsRemover(inputCol=\"words\", outputCol=\"filtWords\")\n",
    "\n",
    "# Convert the content to Lower Case\n",
    "pubmedTitAbsDF2 = pubmedTitAbsDF2.withColumn(\"abstractNew\", lower(col(\"abstract\")))\n",
    "pubmedTitAbsDF2 = pubmedTitAbsDF2.withColumn(\"abstractNew\", regexp_replace(\"abstractNew\", '[^\\w-_ ]', \"\"))\n",
    "\n",
    "# Tokenize the Abstracts\n",
    "pubmedTitAbsDF4 = tokenizer.transform(pubmedTitAbsDF2)\n",
    "\n",
    "pubmedTitAbsDF5 = pubmedTitAbsDF4\n",
    "\n",
    "print(pubmedTitAbsDF5.count())\n",
    "print(pubmedTitAbsDF5.head())\n",
    "print(pubmedTitAbsDF5.printSchema())\n",
    "\n",
    "# PRINT HOW MUCH TIME IT TOOK TO RUN THE CELL\n",
    "timeend = datetime.datetime.now()\n",
    "timedelta = round((timeend-timestart).total_seconds() / 60, 2)\n",
    "print (\"Time taken to execute above cell: \" + str(timedelta) + \" mins\");"
   ]
  },
  {
   "cell_type": "markdown",
   "metadata": {},
   "source": [
    "<br><br><b> Load the test data for Intrinsic Evaluation </b>\n",
    "<br>Test Set Details\n",
    "<ul>\n",
    "<li>Contains 588 concept (drugs, diseases, symptoms) pairs manually rated for semantic relatedness.</li>\n",
    "<li>The Ratings provided are on an arbitrary scale.</li>\n",
    "</ul>\n",
    "<br>A few details about the Spearman correlation\n",
    "<ul>\n",
    "<li>Spearman Correlation (ρ) is a nonparametric measure of rank correlation. </li>\n",
    "<li>It assesses how well the relationship between two variables(pairs ranked by humans VS pairs ranked by our model) can be described using a monotonic function. </li>\n",
    "<li>It compares ranking between variables regardless of their scale</li>\n",
    "</ul>\n",
    "<br>"
   ]
  },
  {
   "cell_type": "markdown",
   "metadata": {},
   "source": [
    "#### Load the Test Set"
   ]
  },
  {
   "cell_type": "code",
   "execution_count": 10,
   "metadata": {
    "scrolled": true
   },
   "outputs": [
    {
     "name": "stdout",
     "output_type": "stream",
     "text": [
      "root\n",
      " |-- word1: string (nullable = true)\n",
      " |-- word2: string (nullable = true)\n",
      " |-- score: double (nullable = true)\n",
      "\n",
      "+--------+---------------+-----------+\n",
      "|database|      tableName|isTemporary|\n",
      "+--------+---------------+-----------+\n",
      "| default|hivesampletable|      false|\n",
      "|        |           dict|       true|\n",
      "+--------+---------------+-----------+"
     ]
    }
   ],
   "source": [
    "#Change the path to the location of UMNSRS-rel.txt\n",
    "UMNSRS_rel_file = \"wasb:///Path to/UMNSRS-rel.txt\"\n",
    "UMNSRS_rel = spark.read.csv(path = UMNSRS_rel_file, header=True, inferSchema=True, sep = \"\\t\")\n",
    "UMNSRS_rel.printSchema()\n",
    "\n",
    "# REGISTER UMNSRS_rel DF IN SQL-CONTEXT\n",
    "UMNSRS_rel.createOrReplaceTempView(\"dict\")\n",
    "spark.sql(\"show tables\").show()"
   ]
  },
  {
   "cell_type": "markdown",
   "metadata": {},
   "source": [
    "<b> Load the words in from the test set </b>\n",
    "<br>This loads a dictionary of all the words present in the test set. We'll use this later while evaluating the word embeddings.\n"
   ]
  },
  {
   "cell_type": "code",
   "execution_count": 11,
   "metadata": {},
   "outputs": [
    {
     "name": "stdout",
     "output_type": "stream",
     "text": [
      "root\n",
      " |-- words_test: string (nullable = true)\n",
      "\n",
      "+--------+---------------+-----------+\n",
      "|database|      tableName|isTemporary|\n",
      "+--------+---------------+-----------+\n",
      "| default|hivesampletable|      false|\n",
      "|        |           dict|       true|\n",
      "|        |      test_dict|       true|\n",
      "+--------+---------------+-----------+"
     ]
    }
   ],
   "source": [
    "#Change the path to the location of Test_words.txt\n",
    "test_words_file = \"wasb:///Path to Test_words.txt\"\n",
    "test_words = spark.read.csv(path = test_words_file, header=True, inferSchema=True, sep = \"\\n\")\n",
    "test_words.printSchema()\n",
    "\n",
    "# REGISTER DF IN SQL-CONTEXT\n",
    "test_words.createOrReplaceTempView(\"test_dict\")\n",
    "spark.sql(\"show tables\").show()"
   ]
  },
  {
   "cell_type": "markdown",
   "metadata": {},
   "source": [
    "### Step 5"
   ]
  },
  {
   "cell_type": "markdown",
   "metadata": {},
   "source": [
    "#### Train <a href = \"https://spark.apache.org/docs/2.1.1/api/java/org/apache/spark/mllib/feature/Word2Vec.html\"> Word2Vec Model</a> (it takes some time to run depending on the data size)\n",
    "<ul>\n",
    "<li> It runs in slighlty over 15 minutes when run on 15 million abstracts with a window size of 5, vector size of 50 and mincount of 400.</li><li> This performance is on a spark cluster with 11 worker nodes each with 4 cores.</li>\n",
    "<li> The parameter values of 5 for window size, 50 for vector size and mincount of 400 work well for the Entity Recognition Task.</li><li> However optimal performance (Rho = 0.5632) during the Intrinsic Evaluation is achieved with a window size of 30, vector size of 100 and mincount of 400. </li><li>This difference can be attributed to the fact that a bigger window size does not help the Entity Recognition task and a simpler model is preferred.</li>\n",
    "<li> To speed up the evaluation of word2vec change number of partitions to a higher value (&lt; number of cores available), but this may decrease the accuracy o fthe model.\n",
    "</ul>\n",
    "<br> For the cell below we are using a cluster size of 4 worker nodes each with 4 cores. "
   ]
  },
  {
   "cell_type": "code",
   "execution_count": 12,
   "metadata": {},
   "outputs": [
    {
     "name": "stdout",
     "output_type": "stream",
     "text": [
      "Time taken to execute above cell: 118.01 mins"
     ]
    }
   ],
   "source": [
    "timestart = datetime.datetime.now()\n",
    "from pyspark.ml.feature import Word2Vec\n",
    "model = None\n",
    "vector_size = 50\n",
    "word2Vec = Word2Vec(windowSize=5, vectorSize = vector_size, minCount=1000, numPartitions=10, inputCol=\"words\", outputCol=\"result\")\n",
    "model = word2Vec.fit(pubmedTitAbsDF5)\n",
    "\n",
    "# PRINT HOW MUCH TIME IT TOOK TO RUN THE CELL\n",
    "timeend = datetime.datetime.now()\n",
    "timedelta = round((timeend-timestart).total_seconds() / 60, 2)\n",
    "model.getVectors().count()\n",
    "print (\"Time taken to execute above cell: \" + str(timedelta) + \" mins\");"
   ]
  },
  {
   "cell_type": "markdown",
   "metadata": {},
   "source": [
    "Save the model for future use"
   ]
  },
  {
   "cell_type": "code",
   "execution_count": 117,
   "metadata": {},
   "outputs": [],
   "source": [
    "#Change the path to the location where you want to save your model\n",
    "model_file = \"wasb:///Path to Model/w2vmodel_entiredataset_vs_50_ws_5_mc_1000_model.bin\"\n",
    "model.save(model_file)"
   ]
  },
  {
   "cell_type": "markdown",
   "metadata": {},
   "source": [
    "<b> Manually Evaluate Similar words by getting nearest neighbours </b>"
   ]
  },
  {
   "cell_type": "code",
   "execution_count": 13,
   "metadata": {},
   "outputs": [
    {
     "name": "stdout",
     "output_type": "stream",
     "text": [
      "[Row(word=u'crc'), Row(word=u'colorectal'), Row(word=u'eoc'), Row(word=u'breast'), Row(word=u'hormone-refractory'), Row(word=u'nsclc'), Row(word=u'crpc'), Row(word=u'prostate'), Row(word=u'cancers'), Row(word=u'early-stage'), Row(word=u'carcinoma'), Row(word=u'adenocarcinoma'), Row(word=u'her2-positive'), Row(word=u'head-and-neck'), Row(word=u'hcc'), Row(word=u'metastatic'), Row(word=u'hnscc'), Row(word=u'gbc'), Row(word=u'mcrc'), Row(word=u'tnbc')]"
     ]
    }
   ],
   "source": [
    "model.findSynonyms(\"cancer\", 20).select(\"word\").head(20) #Returns types of Cancers, hormones responsible for Cancer etc."
   ]
  },
  {
   "cell_type": "code",
   "execution_count": 14,
   "metadata": {},
   "outputs": [
    {
     "name": "stdout",
     "output_type": "stream",
     "text": [
      "[Row(word=u'cerebrum'), Row(word=u'cerebellum'), Row(word=u'forebrain'), Row(word=u'neocortex'), Row(word=u'cerebrocortical'), Row(word=u'hippocampi'), Row(word=u'brains'), Row(word=u'white-matter'), Row(word=u'hippocampus'), Row(word=u'striatum'), Row(word=u'demyelinated'), Row(word=u'diencephalon'), Row(word=u'striatal'), Row(word=u'gerbil'), Row(word=u'infarcted'), Row(word=u'hypoxic-ischemic'), Row(word=u'retina'), Row(word=u'neurohypophysis'), Row(word=u'telencephalon'), Row(word=u'neocortical')]"
     ]
    }
   ],
   "source": [
    "model.findSynonyms(\"brain\", 20).select(\"word\").head(20)# Returns Different Parts of the Brain"
   ]
  },
  {
   "cell_type": "markdown",
   "metadata": {},
   "source": [
    "<b>Store the word vectors in a SQL table</b>"
   ]
  },
  {
   "cell_type": "code",
   "execution_count": 15,
   "metadata": {},
   "outputs": [
    {
     "name": "stdout",
     "output_type": "stream",
     "text": [
      "root\n",
      " |-- word: string (nullable = true)\n",
      " |-- vector: vector (nullable = true)\n",
      "\n",
      "48322\n",
      "+--------+---------------+-----------+\n",
      "|database|      tableName|isTemporary|\n",
      "+--------+---------------+-----------+\n",
      "| default|hivesampletable|      false|\n",
      "|        |           dict|       true|\n",
      "|        |      test_dict|       true|\n",
      "|        |       word2vec|       true|\n",
      "+--------+---------------+-----------+"
     ]
    }
   ],
   "source": [
    "df = model.getVectors()\n",
    "df.printSchema()\n",
    "print(df.count())\n",
    "\n",
    "# REGISTER Vectors DF IN SQL-CONTEXT\n",
    "df.createOrReplaceTempView(\"word2vec\")\n",
    "spark.sql(\"show tables\").show()"
   ]
  },
  {
   "cell_type": "markdown",
   "metadata": {},
   "source": [
    "### Step 6\n",
    "The below cell uses SQL magic(%%). Read more <a href = \"https://docs.microsoft.com/en-us/azure/hdinsight/hdinsight-apache-spark-jupyter-notebook-kernels#parameters-supported-with-the-sql-magic\">here</a>"
   ]
  },
  {
   "cell_type": "code",
   "execution_count": 18,
   "metadata": {},
   "outputs": [],
   "source": [
    "%%sql -q -o rel_file\n",
    "select * from dict"
   ]
  },
  {
   "cell_type": "markdown",
   "metadata": {},
   "source": [
    "<b> Obtain the Word Vector for all the words in the test set for Intrinsic Evaluation of the Embeddings </b>"
   ]
  },
  {
   "cell_type": "code",
   "execution_count": 16,
   "metadata": {},
   "outputs": [],
   "source": [
    "%%sql -q -o sqlResultsPD\n",
    "select wv.word, wv.vector from word2vec wv\n",
    "inner join test_dict d on wv.word = d.words_test"
   ]
  },
  {
   "cell_type": "markdown",
   "metadata": {},
   "source": [
    "<b> Intrinsic Evaluation </b><br>\n",
    "We are using <a href = \"https://en.wikipedia.org/wiki/Spearman%27s_rank_correlation_coefficient\"> Spearman Correlation </a> to evaluate the performance of similarity from our embeddings against the similarity given by humans. "
   ]
  },
  {
   "cell_type": "code",
   "execution_count": 19,
   "metadata": {},
   "outputs": [
    {
     "name": "stdout",
     "output_type": "stream",
     "text": [
      "('rho = ', 0.28604729018682118)\n",
      "(241, 587, 41)\n",
      "Time taken to execute above cell: 0.0 mins\n"
     ]
    }
   ],
   "source": [
    "%%local\n",
    "import numpy as np\n",
    "from scipy.spatial.distance import cosine as cos\n",
    "from scipy.stats import spearmanr\n",
    "import datetime\n",
    "timestart = datetime.datetime.now()\n",
    "\n",
    "all_words = np.array(sqlResultsPD.word)\n",
    "all_vecs = np.array(sqlResultsPD.vector)\n",
    "\n",
    "rel_file = np.array(rel_file)\n",
    "rel_file_len = len(rel_file)\n",
    "\n",
    "similarity_actual = []\n",
    "similarity_predicted = []\n",
    "\n",
    "found = 0\n",
    "for i in range(rel_file_len):\n",
    "    word1 = rel_file[i][0]\n",
    "    word2 = rel_file[i][1]\n",
    "    vec1_pos = -1\n",
    "    for j in range(len(all_words)):\n",
    "        if all_words[j] == word1:\n",
    "            vec1_pos = j\n",
    "            break\n",
    "    vec2_pos = -1\n",
    "    for j in range(len(all_words)):\n",
    "        if all_words[j] == word2:\n",
    "            vec2_pos = j\n",
    "            break\n",
    "\n",
    "    if vec1_pos >= 0 and vec2_pos >= 0:\n",
    "        similarity_actual.append(rel_file[i][2])\n",
    "        found += 1        \n",
    "        vec1 = all_vecs[vec1_pos]['values']\n",
    "        vec2 = all_vecs[vec2_pos]['values']\n",
    "        val = 1 - cos(vec1, vec2)\n",
    "        similarity_predicted.append(val)\n",
    "\n",
    "similarity_actual = np.array(similarity_actual)\n",
    "similarity_predicted = np.array(similarity_predicted)\n",
    "rho, count = spearmanr(similarity_actual, similarity_predicted)\n",
    "print(\"rho = \", rho)\n",
    "print(found, rel_file_len, found*100/rel_file_len)\n",
    "\n",
    "# PRINT HOW MUCH TIME IT TOOK TO RUN THE CELL\n",
    "timeend = datetime.datetime.now()\n",
    "timedelta = round((timeend-timestart).total_seconds() / 60, 2)\n",
    "print (\"Time taken to execute above cell: \" + str(timedelta) + \" mins\");"
   ]
  },
  {
   "cell_type": "code",
   "execution_count": 124,
   "metadata": {},
   "outputs": [
    {
     "name": "stderr",
     "output_type": "stream",
     "text": [
      "Widget Javascript not detected.  It may not be installed or enabled properly.\n"
     ]
    },
    {
     "data": {
      "application/vnd.jupyter.widget-view+json": {
       "model_id": "cd6da00795024770a67bfb99900249c3"
      }
     },
     "metadata": {},
     "output_type": "display_data"
    }
   ],
   "source": [
    "%%sql\n",
    "drop table dict"
   ]
  },
  {
   "cell_type": "markdown",
   "metadata": {},
   "source": [
    "### Step 7"
   ]
  },
  {
   "cell_type": "markdown",
   "metadata": {},
   "source": [
    "<b> Function to split the vectors from the dataframe into columns</b><br>This makes it easier to save the Embeddings"
   ]
  },
  {
   "cell_type": "code",
   "execution_count": 20,
   "metadata": {},
   "outputs": [],
   "source": [
    "from pyspark.sql.types import DoubleType\n",
    "from pyspark.sql.functions import lit, udf\n",
    "\n",
    "def ith_(v, i):\n",
    "    try:\n",
    "        return float(v[i])\n",
    "    except ValueError:\n",
    "        return None\n",
    "\n",
    "ith = udf(ith_, DoubleType())"
   ]
  },
  {
   "cell_type": "markdown",
   "metadata": {},
   "source": [
    "<b> Split the Word Embeddings into Columns </b>"
   ]
  },
  {
   "cell_type": "code",
   "execution_count": 21,
   "metadata": {},
   "outputs": [
    {
     "name": "stdout",
     "output_type": "stream",
     "text": [
      "root\n",
      " |-- word: string (nullable = true)\n",
      " |-- vector: vector (nullable = true)\n",
      " |-- col0: double (nullable = true)\n",
      " |-- col1: double (nullable = true)\n",
      " |-- col2: double (nullable = true)\n",
      " |-- col3: double (nullable = true)\n",
      " |-- col4: double (nullable = true)\n",
      " |-- col5: double (nullable = true)\n",
      " |-- col6: double (nullable = true)\n",
      " |-- col7: double (nullable = true)\n",
      " |-- col8: double (nullable = true)\n",
      " |-- col9: double (nullable = true)\n",
      " |-- col10: double (nullable = true)\n",
      " |-- col11: double (nullable = true)\n",
      " |-- col12: double (nullable = true)\n",
      " |-- col13: double (nullable = true)\n",
      " |-- col14: double (nullable = true)\n",
      " |-- col15: double (nullable = true)\n",
      " |-- col16: double (nullable = true)\n",
      " |-- col17: double (nullable = true)\n",
      " |-- col18: double (nullable = true)\n",
      " |-- col19: double (nullable = true)\n",
      " |-- col20: double (nullable = true)\n",
      " |-- col21: double (nullable = true)\n",
      " |-- col22: double (nullable = true)\n",
      " |-- col23: double (nullable = true)\n",
      " |-- col24: double (nullable = true)\n",
      " |-- col25: double (nullable = true)\n",
      " |-- col26: double (nullable = true)\n",
      " |-- col27: double (nullable = true)\n",
      " |-- col28: double (nullable = true)\n",
      " |-- col29: double (nullable = true)\n",
      " |-- col30: double (nullable = true)\n",
      " |-- col31: double (nullable = true)\n",
      " |-- col32: double (nullable = true)\n",
      " |-- col33: double (nullable = true)\n",
      " |-- col34: double (nullable = true)\n",
      " |-- col35: double (nullable = true)\n",
      " |-- col36: double (nullable = true)\n",
      " |-- col37: double (nullable = true)\n",
      " |-- col38: double (nullable = true)\n",
      " |-- col39: double (nullable = true)\n",
      " |-- col40: double (nullable = true)\n",
      " |-- col41: double (nullable = true)\n",
      " |-- col42: double (nullable = true)\n",
      " |-- col43: double (nullable = true)\n",
      " |-- col44: double (nullable = true)\n",
      " |-- col45: double (nullable = true)\n",
      " |-- col46: double (nullable = true)\n",
      " |-- col47: double (nullable = true)\n",
      " |-- col48: double (nullable = true)\n",
      " |-- col49: double (nullable = true)"
     ]
    }
   ],
   "source": [
    "from pyspark.ml.linalg import Vectors\n",
    "df_old_model = df\n",
    "df_1 = df\n",
    "for i in range(vector_size):\n",
    "    df_1 = df_1.withColumn(\"col\" + str(i), ith(\"vector\", lit(i)))\n",
    "\n",
    "df_1.printSchema()"
   ]
  },
  {
   "cell_type": "markdown",
   "metadata": {},
   "source": [
    "<b> Save the Word Embeddings in the parquet format</b><br> Remember to use the compression as gzip since the method we will use to load the embeddings by parsing the Parquet files currently supports only gzip compression.<br>\n",
    "Note: If you want to load the word embeddings in python for visualization or for performing some down stream tasks, checkout the first section of the next Notebook for a simple method of reading the Word Embeddings from parquet files and storing it as a dictionary"
   ]
  },
  {
   "cell_type": "code",
   "execution_count": 22,
   "metadata": {},
   "outputs": [],
   "source": [
    "#Change the path to the location where you want to store the Embeddings\n",
    "model_file = \"wasb:///Path to Embeddings/w2vmodel_entiredataset_vs_50_ws_5_mc_1000_with_gzip_array\"\n",
    "df_1.repartition(1000).write.mode(\"overwrite\").parquet(model_file ,compression='gzip')"
   ]
  },
  {
   "cell_type": "markdown",
   "metadata": {},
   "source": [
    "### Step 8"
   ]
  },
  {
   "cell_type": "markdown",
   "metadata": {},
   "source": [
    "<b>Dimensionality Reduction for Visualization</b><br>\n",
    "Note: For PCA or t-SNE we want the word Embeddings to be split into coloumns of data frame. "
   ]
  },
  {
   "cell_type": "code",
   "execution_count": 23,
   "metadata": {
    "collapsed": true
   },
   "outputs": [],
   "source": [
    "from pyspark.ml.feature import VectorAssembler\n",
    "assembler = VectorAssembler(\n",
    "    inputCols=['col%d' % i for i in range(vector_size)],\n",
    "    outputCol=\"features\")\n",
    "output = assembler.transform(df_1)"
   ]
  },
  {
   "cell_type": "code",
   "execution_count": 24,
   "metadata": {},
   "outputs": [
    {
     "name": "stdout",
     "output_type": "stream",
     "text": [
      "root\n",
      " |-- word: string (nullable = true)\n",
      " |-- vector: vector (nullable = true)\n",
      " |-- col0: double (nullable = true)\n",
      " |-- col1: double (nullable = true)\n",
      " |-- col2: double (nullable = true)\n",
      " |-- col3: double (nullable = true)\n",
      " |-- col4: double (nullable = true)\n",
      " |-- col5: double (nullable = true)\n",
      " |-- col6: double (nullable = true)\n",
      " |-- col7: double (nullable = true)\n",
      " |-- col8: double (nullable = true)\n",
      " |-- col9: double (nullable = true)\n",
      " |-- col10: double (nullable = true)\n",
      " |-- col11: double (nullable = true)\n",
      " |-- col12: double (nullable = true)\n",
      " |-- col13: double (nullable = true)\n",
      " |-- col14: double (nullable = true)\n",
      " |-- col15: double (nullable = true)\n",
      " |-- col16: double (nullable = true)\n",
      " |-- col17: double (nullable = true)\n",
      " |-- col18: double (nullable = true)\n",
      " |-- col19: double (nullable = true)\n",
      " |-- col20: double (nullable = true)\n",
      " |-- col21: double (nullable = true)\n",
      " |-- col22: double (nullable = true)\n",
      " |-- col23: double (nullable = true)\n",
      " |-- col24: double (nullable = true)\n",
      " |-- col25: double (nullable = true)\n",
      " |-- col26: double (nullable = true)\n",
      " |-- col27: double (nullable = true)\n",
      " |-- col28: double (nullable = true)\n",
      " |-- col29: double (nullable = true)\n",
      " |-- col30: double (nullable = true)\n",
      " |-- col31: double (nullable = true)\n",
      " |-- col32: double (nullable = true)\n",
      " |-- col33: double (nullable = true)\n",
      " |-- col34: double (nullable = true)\n",
      " |-- col35: double (nullable = true)\n",
      " |-- col36: double (nullable = true)\n",
      " |-- col37: double (nullable = true)\n",
      " |-- col38: double (nullable = true)\n",
      " |-- col39: double (nullable = true)\n",
      " |-- col40: double (nullable = true)\n",
      " |-- col41: double (nullable = true)\n",
      " |-- col42: double (nullable = true)\n",
      " |-- col43: double (nullable = true)\n",
      " |-- col44: double (nullable = true)\n",
      " |-- col45: double (nullable = true)\n",
      " |-- col46: double (nullable = true)\n",
      " |-- col47: double (nullable = true)\n",
      " |-- col48: double (nullable = true)\n",
      " |-- col49: double (nullable = true)\n",
      " |-- features: vector (nullable = true)"
     ]
    }
   ],
   "source": [
    "output.printSchema()"
   ]
  },
  {
   "cell_type": "markdown",
   "metadata": {},
   "source": [
    "<b>PCA</b>"
   ]
  },
  {
   "cell_type": "code",
   "execution_count": 25,
   "metadata": {},
   "outputs": [
    {
     "name": "stdout",
     "output_type": "stream",
     "text": [
      "+--------+---------------+-----------+\n",
      "|database|      tableName|isTemporary|\n",
      "+--------+---------------+-----------+\n",
      "| default|hivesampletable|      false|\n",
      "|        |           dict|       true|\n",
      "|        |            pca|       true|\n",
      "|        |      test_dict|       true|\n",
      "|        |       word2vec|       true|\n",
      "+--------+---------------+-----------+"
     ]
    }
   ],
   "source": [
    "from pyspark.ml.feature import PCA\n",
    "pca = PCA(k=2, inputCol=\"features\", outputCol=\"pca_vector\")\n",
    "model_pca = pca.fit(output)\n",
    "\n",
    "transformed = model_pca.transform(output).select(\"word\", \"pca_vector\")\n",
    "\n",
    "#REGISTER DF IN SQL-CONTEXT\n",
    "transformed.createOrReplaceTempView(\"pca\")\n",
    "spark.sql(\"show tables\").show()"
   ]
  },
  {
   "cell_type": "code",
   "execution_count": 26,
   "metadata": {},
   "outputs": [
    {
     "name": "stdout",
     "output_type": "stream",
     "text": [
      "root\n",
      " |-- test_words: string (nullable = true)\n",
      "\n",
      "+--------+------------------+-----------+\n",
      "|database|         tableName|isTemporary|\n",
      "+--------+------------------+-----------+\n",
      "| default|   hivesampletable|      false|\n",
      "|        |              dict|       true|\n",
      "|        |               pca|       true|\n",
      "|        |         test_dict|       true|\n",
      "|        |visualization_dict|       true|\n",
      "|        |          word2vec|       true|\n",
      "+--------+------------------+-----------+"
     ]
    }
   ],
   "source": [
    "#Change the path to the location of test_words_dict_for visualization.txt\n",
    "words_visualization_file = \"wasb:///Path to/test_words_dict_for visualization.txt\"\n",
    "words_visualization = spark.read.csv(path = words_visualization_file, header=True, inferSchema=True, sep = \"\\n\")\n",
    "words_visualization.printSchema()\n",
    "\n",
    "# REGISTER JOINED TRIP-FARE DF IN SQL-CONTEXT\n",
    "words_visualization.createOrReplaceTempView(\"visualization_dict\")\n",
    "spark.sql(\"show tables\").show()"
   ]
  },
  {
   "cell_type": "code",
   "execution_count": 27,
   "metadata": {},
   "outputs": [],
   "source": [
    "%%sql -q -o visualize_vectors\n",
    "select * from pca p\n",
    "inner join visualization_dict vd on p.word = vd.test_words"
   ]
  },
  {
   "cell_type": "code",
   "execution_count": 35,
   "metadata": {},
   "outputs": [
    {
     "name": "stdout",
     "output_type": "stream",
     "text": [
      "Index([u'word', u'pca_vector', u'test_words'], dtype='object')\n",
      "(29, 2)\n",
      "(29, 29)\n",
      "-5.66271385413\n"
     ]
    },
    {
     "data": {
      "image/png": "[encoded data removed]",
      "text/plain": [
       "<matplotlib.figure.Figure at 0x7f33f1f33e50>"
      ]
     },
     "metadata": {},
     "output_type": "display_data"
    }
   ],
   "source": [
    "%%local\n",
    "%matplotlib inline\n",
    "import numpy as np\n",
    "import matplotlib.pyplot as plt\n",
    "from sklearn.manifold import TSNE\n",
    "print(visualize_vectors.columns)\n",
    "\n",
    "all_words = np.array(visualize_vectors.word)\n",
    "all_vecs = np.array(visualize_vectors.pca_vector)\n",
    "\n",
    "num_vectors = len(all_vecs)\n",
    "vector_size = len(all_vecs[0]['values'])\n",
    "\n",
    "print(num_vectors, vector_size)\n",
    "\n",
    "all_vecs_new = []\n",
    "\n",
    "for i in range(num_vectors):\n",
    "    all_vecs_new.append(all_vecs[i]['values'])\n",
    "    \n",
    "Y = np.zeros(num_vectors)\n",
    "for i in range(num_vectors):\n",
    "    X[i] = all_vecs_new[i][0]\n",
    "    Y[i] = all_vecs_new[i][1]\n",
    "\n",
    "words = all_words\n",
    "\n",
    "print(len(X), len(Y))\n",
    "print(np.amin(X))\n",
    "fig, ax = plt.subplots(figsize=(15, 15))\n",
    "ax.scatter(X, Y)\n",
    "\n",
    "xy_x = np.arange(np.amin(X), np.amax(X) + (np.amax(X) - np.amin(X))/5, (np.amax(X) - np.amin(X))/5)\n",
    "xy_y = np.arange(np.amin(Y), np.amax(Y) +(np.amax(Y) - np.amin(Y))/5, (np.amax(Y) - np.amin(Y))/5)\n",
    "plt.xticks(xy_x)\n",
    "plt.yticks(xy_y)\n",
    "for i, word in enumerate(words):\n",
    "    ax.annotate(word, (X[i], Y[i]))\n"
   ]
  },
  {
   "cell_type": "markdown",
   "metadata": {},
   "source": [
    "### Step 9"
   ]
  },
  {
   "cell_type": "markdown",
   "metadata": {},
   "source": [
    "<b> For a better Visualization we use PCA + t-SNE</b>\n",
    "<br> We first use PCA to reduce the dimensions to 45, then pick 15000 word vectors and apply t-SNE on them. We use the same word list for visualization as used in PCA (above) to see the differences between the 2 visualizations"
   ]
  },
  {
   "cell_type": "code",
   "execution_count": 36,
   "metadata": {},
   "outputs": [
    {
     "name": "stdout",
     "output_type": "stream",
     "text": [
      "[0.104391835775,0.0811255237652,0.0714619895395,0.0646699948814,0.0548719085746,0.0472854108528,0.0460593418285,0.0435659943174,0.0398821223037,0.0382154295432,0.0337891357566,0.0302435520328,0.0276145867491,0.0268183442174,0.0261740350193,0.0238030408324,0.0218380874616,0.0207995744426,0.0192600887465,0.0162211627006,0.0158925567937,0.013648767215,0.0129587378892,0.0121411912453,0.0114577180171,0.0106114000922,0.00960056243675,0.00852605689209,0.0075690971889,0.00674573670886,0.00651873782464,0.00607190214336,0.00584249491257,0.00502553208004,0.00496503715532,0.00360863615988,0.00324489334351,0.00267795009477,0.00243719120947,0.00199491767729,0.00183784375953,0.00151775967564,0.00140803131552,0.00124761935617,0.00106979686332]\n",
      "+--------+------------------+-----------+\n",
      "|database|         tableName|isTemporary|\n",
      "+--------+------------------+-----------+\n",
      "| default|   hivesampletable|      false|\n",
      "|        |              dict|       true|\n",
      "|        |               pca|       true|\n",
      "|        |          pca_tsne|       true|\n",
      "|        |         test_dict|       true|\n",
      "|        |visualization_dict|       true|\n",
      "|        |          word2vec|       true|\n",
      "+--------+------------------+-----------+"
     ]
    }
   ],
   "source": [
    "from pyspark.ml.feature import PCA\n",
    "pca = PCA(k=45, inputCol=\"features\", outputCol=\"pca_vector\")\n",
    "model_pca = pca.fit(output)\n",
    "\n",
    "print(model_pca.explainedVariance)\n",
    "transformed = model_pca.transform(output).select(\"word\", \"pca_vector\")\n",
    "\n",
    "#REGISTER DF IN SQL-CONTEXT\n",
    "transformed.createOrReplaceTempView(\"pca_tsne\")\n",
    "spark.sql(\"show tables\").show()"
   ]
  },
  {
   "cell_type": "code",
   "execution_count": 37,
   "metadata": {},
   "outputs": [],
   "source": [
    "%%sql -q -m take -n 15000 -o visualize_vectors_tsne\n",
    "select p.word, p.pca_vector from pca_tsne p inner join visualization_dict vd on p.word = vd.test_words\n",
    "union all\n",
    "select pc.word, pc.pca_vector from pca_tsne pc"
   ]
  },
  {
   "cell_type": "markdown",
   "metadata": {},
   "source": [
    "<b> Use t-SNE on 15000 words which include the words we plotted in PCA </b>\n",
    "As you can see t-SNE in combination with PCA gives better visualization than only PCA. This is because PCA sufferes from a large information loss."
   ]
  },
  {
   "cell_type": "code",
   "execution_count": 41,
   "metadata": {},
   "outputs": [
    {
     "name": "stdout",
     "output_type": "stream",
     "text": [
      "Index([u'word', u'pca_vector'], dtype='object')\n",
      "(15000, 45)\n",
      "colorectal\n",
      "leucovorin\n",
      "flu\n",
      "pneumonia\n",
      "amoxicillin\n",
      "ulcerative\n",
      "antiangiogenesis\n",
      "pulmonary\n",
      "asthma\n",
      "piperacillin\n",
      "herceptin\n",
      "doxycycline\n",
      "chills\n",
      "bevacizumab\n",
      "cold\n",
      "ciprofloxacin\n",
      "colon\n",
      "cancer\n",
      "colitis\n",
      "oncologist\n",
      "clavulanic\n",
      "chronic\n",
      "bronchiolitis\n",
      "bronchitis\n",
      "viral\n",
      "regimen\n",
      "tachycardia\n",
      "fluorouracil\n",
      "levofloxacin\n",
      "29\n",
      "(29, 29)\n"
     ]
    },
    {
     "data": {
      "image/png": "[encoded data removed]",
      "text/plain": [
       "<matplotlib.figure.Figure at 0x7f33f1ed2b10>"
      ]
     },
     "metadata": {},
     "output_type": "display_data"
    }
   ],
   "source": [
    "%%local\n",
    "%matplotlib inline\n",
    "import numpy as np\n",
    "import matplotlib.pyplot as plt\n",
    "from sklearn.manifold import TSNE\n",
    "\n",
    "print(visualize_vectors_tsne.columns)\n",
    "dict_words = np.array(visualize_vectors.word)\n",
    "all_words = np.array(visualize_vectors_tsne.word)\n",
    "all_vecs = np.array(visualize_vectors_tsne.pca_vector)\n",
    "\n",
    "num_vectors = len(all_vecs)\n",
    "vector_size = len(all_vecs[0]['values'])\n",
    "\n",
    "print(num_vectors, vector_size)\n",
    "all_vecs_new = []\n",
    "for i in range(num_vectors):\n",
    "    all_vecs_new.append(all_vecs[i]['values'])\n",
    "    \n",
    "all_vecs_new = np.array(all_vecs_new)\n",
    "tsne = TSNE(n_components = 2, init='pca', random_state=0)\n",
    "all_vecs_new_TSNE = tsne.fit_transform(all_vecs_new, [num_vectors, vector_size])\n",
    "\n",
    "X = []\n",
    "Y = []\n",
    "k = 0\n",
    "seen = []\n",
    "index = []\n",
    "for i in range(num_vectors):\n",
    "    for j in range(len(dict_words)):\n",
    "        if dict_words[j] not in seen and dict_words[j] == all_words[i]:\n",
    "            print(dict_words[j])\n",
    "            seen.append(dict_words[j])\n",
    "            X.append(all_vecs_new_TSNE[i][0])\n",
    "            Y.append(all_vecs_new_TSNE[i][1])\n",
    "            index.append(dict_words[j])\n",
    "            k+=1\n",
    "print(k)\n",
    "\n",
    "X = np.array(X)\n",
    "Y = np.array(Y)\n",
    "words = np.array(index)\n",
    "print(len(X), len(Y))\n",
    "\n",
    "fig, ax = plt.subplots(figsize=(15, 15))\n",
    "ax.scatter(X, Y)\n",
    "\n",
    "xy_x = np.arange(np.amin(X), np.amax(X) + (np.amax(X) - np.amin(X))/5, (np.amax(X) - np.amin(X))/5)\n",
    "xy_y = np.arange(np.amin(Y), np.amax(Y) +(np.amax(Y) - np.amin(Y))/5, (np.amax(Y) - np.amin(Y))/5)\n",
    "\n",
    "plt.xticks(xy_x)\n",
    "plt.yticks(xy_y)\n",
    "for i, word in enumerate(words):\n",
    "    ax.annotate(word, (X[i], Y[i])) \n"
   ]
  },
  {
   "cell_type": "code",
   "execution_count": null,
   "metadata": {
    "collapsed": true
   },
   "outputs": [],
   "source": [
    "%%sql -q -o sqlResultsPD\n",
    "drop table word2vec"
   ]
  },
  {
   "cell_type": "code",
   "execution_count": null,
   "metadata": {
    "collapsed": true
   },
   "outputs": [],
   "source": [
    "%%sql -q -o sqlResultsPD\n",
    "drop table visualization_dict"
   ]
  }
 ],
 "metadata": {
  "anaconda-cloud": {},
  "kernelspec": {
   "display_name": "Python [default]",
   "language": "python",
   "name": "python2"
  },
  "language_info": {
   "codemirror_mode": {
    "name": "ipython",
    "version": 2
   },
   "file_extension": ".py",
   "mimetype": "text/x-python",
   "name": "python",
   "nbconvert_exporter": "python",
   "pygments_lexer": "ipython2",
   "version": "2.7.13"
  }
 },
 "nbformat": 4,
 "nbformat_minor": 2
}
